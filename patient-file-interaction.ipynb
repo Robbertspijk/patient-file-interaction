{
 "cells": [
  {
   "cell_type": "markdown",
   "id": "2320d2ce",
   "metadata": {
    "papermill": {
     "duration": 0.010979,
     "end_time": "2025-09-17T09:41:33.247884",
     "exception": false,
     "start_time": "2025-09-17T09:41:33.236905",
     "status": "completed"
    },
    "tags": []
   },
   "source": [
    "# Vector Search Interaction with Patient Files\n",
    "\n",
    "Patient records can be tricky, and navigating them can be tricky in healthcare. Nevertheless, it is crucial to be able to do so.\n",
    "\n",
    "In theory, this is done with meticulous standards and making sure there is very clear terminology in symptoms and observations. In practice, this is not always the case. For doctors seeing a patient that has a lengthy record for the first time it can be hard to decipher the relevant parts of the file. Add inconsistent word use and suddently standard search functions become very difficult to use.\n",
    "\n",
    "Using Vector Search and Embeddings, we can hope to fix this issue. By embedding the semantic meaning of a word, we no longer need to rely on exact word use, and other relevant reports can come through the search to enrich the search result.\n",
    "\n",
    "To showcase this use case, I have made an AI agent that lets you filter for relevant parts of patient files from a public dataset. We will ask it things like \"Has this patient shown signs of dementia before?\" and be able to get results back of reports that might be relevant. Should, for example, there be an increase of dementia-related reports over the past 6 months or so, a medical expert might want to act on that.\n",
    "\n",
    "As a technical challenge, I wanted to do this entire process with the BigQuery Python library."
   ]
  },
  {
   "cell_type": "markdown",
   "id": "1ba67941",
   "metadata": {
    "papermill": {
     "duration": 0.005188,
     "end_time": "2025-09-17T09:41:33.259787",
     "exception": false,
     "start_time": "2025-09-17T09:41:33.254599",
     "status": "completed"
    },
    "tags": []
   },
   "source": [
    "# Data setup\n",
    "Using a public dataset of fake patient data, we can extract patient reports from 20 ficticious patients.\n",
    "The setup of the dataset is a bit limited, but we will further enrich that later. \n",
    "\n",
    "People to process is set to 10 by default, but could in theory be bumped up if you're prepared to foot the bill.\n",
    "Similarly the reports per patient is limited; there are thousands of patients in this dataset each with hundreds of reports!"
   ]
  },
  {
   "cell_type": "code",
   "execution_count": 1,
   "id": "3b75a06a",
   "metadata": {
    "execution": {
     "iopub.execute_input": "2025-09-17T09:41:33.271620Z",
     "iopub.status.busy": "2025-09-17T09:41:33.271321Z",
     "iopub.status.idle": "2025-09-17T09:41:38.571762Z",
     "shell.execute_reply": "2025-09-17T09:41:38.570733Z"
    },
    "papermill": {
     "duration": 5.308418,
     "end_time": "2025-09-17T09:41:38.573575",
     "exception": false,
     "start_time": "2025-09-17T09:41:33.265157",
     "status": "completed"
    },
    "tags": []
   },
   "outputs": [
    {
     "name": "stdout",
     "output_type": "stream",
     "text": [
      "\u001b[2K   \u001b[90m━━━━━━━━━━━━━━━━━━━━━━━━━━━━━━━━━━━━━━━━\u001b[0m \u001b[32m293.6/293.6 kB\u001b[0m \u001b[31m5.6 MB/s\u001b[0m eta \u001b[36m0:00:00\u001b[0m\r\n",
      "\u001b[?25h\u001b[31mERROR: pip's dependency resolver does not currently take into account all the packages that are installed. This behaviour is the source of the following dependency conflicts.\r\n",
      "bigframes 2.8.0 requires google-cloud-bigquery[bqstorage,pandas]>=3.31.0, but you have google-cloud-bigquery 3.25.0 which is incompatible.\r\n",
      "bigframes 2.8.0 requires rich<14,>=12.4.4, but you have rich 14.0.0 which is incompatible.\u001b[0m\u001b[31m\r\n",
      "\u001b[0m"
     ]
    }
   ],
   "source": [
    "!pip install --quiet google-cloud-bigquery-storage #Reduces future errors and increases readability"
   ]
  },
  {
   "cell_type": "code",
   "execution_count": 2,
   "id": "413dabff",
   "metadata": {
    "execution": {
     "iopub.execute_input": "2025-09-17T09:41:38.587765Z",
     "iopub.status.busy": "2025-09-17T09:41:38.586791Z",
     "iopub.status.idle": "2025-09-17T09:41:38.653730Z",
     "shell.execute_reply": "2025-09-17T09:41:38.652616Z"
    },
    "papermill": {
     "duration": 0.075532,
     "end_time": "2025-09-17T09:41:38.655109",
     "exception": false,
     "start_time": "2025-09-17T09:41:38.579577",
     "status": "completed"
    },
    "tags": []
   },
   "outputs": [
    {
     "name": "stdout",
     "output_type": "stream",
     "text": [
      "Project ID and Database settings have been succesfully set.\n"
     ]
    }
   ],
   "source": [
    "\n",
    "from kaggle_secrets import UserSecretsClient\n",
    "\n",
    "user_secrets = UserSecretsClient()\n",
    "PROJECT_ID = user_secrets.get_secret(\"GCP_PROJECT_ID\")\n",
    "DATASET_ID = 'concept_data'\n",
    "DATASET_TABLE = 'concept_content'\n",
    "DATASET_LOCATION = 'US' \n",
    "\n",
    "PATIENTS_TO_PROCESS = 10 #How many patients to grab from the public dataset\n",
    "REPORTS_PER_PATIENT = 50 #How many reports do you want to generate and embed per person?\n",
    "\n",
    "print('Project ID and Database settings have been succesfully set.')"
   ]
  },
  {
   "cell_type": "markdown",
   "id": "34f35c87",
   "metadata": {
    "papermill": {
     "duration": 0.005345,
     "end_time": "2025-09-17T09:41:38.666111",
     "exception": false,
     "start_time": "2025-09-17T09:41:38.660766",
     "status": "completed"
    },
    "tags": []
   },
   "source": [
    "First, we generate an empty BigQuery Dataset to later create our tables and models into.\n",
    "I default to setting the location to US, as newer models tend to be available there slightly earlier than in my area (Europe)."
   ]
  },
  {
   "cell_type": "code",
   "execution_count": 3,
   "id": "eecb7ade",
   "metadata": {
    "execution": {
     "iopub.execute_input": "2025-09-17T09:41:38.678030Z",
     "iopub.status.busy": "2025-09-17T09:41:38.677695Z",
     "iopub.status.idle": "2025-09-17T09:41:57.961307Z",
     "shell.execute_reply": "2025-09-17T09:41:57.960257Z"
    },
    "papermill": {
     "duration": 19.291326,
     "end_time": "2025-09-17T09:41:57.962703",
     "exception": false,
     "start_time": "2025-09-17T09:41:38.671377",
     "status": "completed"
    },
    "tags": []
   },
   "outputs": [
    {
     "name": "stdout",
     "output_type": "stream",
     "text": [
      "Dataset 'concept_data' created successfully in US\n"
     ]
    }
   ],
   "source": [
    "from google.cloud import bigquery\n",
    "from google.api_core import exceptions as api_exceptions\n",
    "\n",
    "#BigQuery Client\n",
    "client = bigquery.Client(project=PROJECT_ID)\n",
    "\n",
    "try:\n",
    "    #Basic Dataset params\n",
    "    dataset_ref = client.dataset(DATASET_ID)\n",
    "    dataset = bigquery.Dataset(dataset_ref)\n",
    "    dataset.location = DATASET_LOCATION\n",
    "    \n",
    "    #Send the dataset to the API for creation.\n",
    "    dataset = client.create_dataset(dataset)\n",
    "    print(f\"Dataset '{DATASET_ID}' created successfully in {DATASET_LOCATION}\")\n",
    "except api_exceptions.Conflict:\n",
    "    #Handle the case where the dataset already exists.\n",
    "    print(f\"Dataset '{DATASET_ID}' already exists. Skipping creation.\")\n",
    "except Exception as e:\n",
    "    #Handle other potential API errors.\n",
    "    print(f\"An error occurred: {e}\")"
   ]
  },
  {
   "cell_type": "markdown",
   "id": "5e0d2e84",
   "metadata": {
    "papermill": {
     "duration": 0.006007,
     "end_time": "2025-09-17T09:41:57.974463",
     "exception": false,
     "start_time": "2025-09-17T09:41:57.968456",
     "status": "completed"
    },
    "tags": []
   },
   "source": [
    "Now that the empty dataset has been generated, we can put our own data into it.\n",
    "\n",
    "This query takes the public dataset with patient reports, and extracts people and their associated reports.\n",
    "The dataset has a lot of tables, most of which frankly lacked the context for me to understand, but I grabbed the \"concepts\" as well as their start and end-date.\n",
    "This gives us the following setup;\n",
    "- The patient (person)'s id\n",
    "- The ID of the condition, and its ancestor (type of condition)\n",
    "- The start and end date of the condition\n",
    "- The content of the condition and its ancestor, combined into 1 string\n",
    "- 2 empty columns, to be used later\n",
    "- A UUID using BigQuery's FARM_FINGERPRINT function"
   ]
  },
  {
   "cell_type": "code",
   "execution_count": 4,
   "id": "d42f2b71",
   "metadata": {
    "execution": {
     "iopub.execute_input": "2025-09-17T09:41:57.987632Z",
     "iopub.status.busy": "2025-09-17T09:41:57.987179Z",
     "iopub.status.idle": "2025-09-17T09:42:07.998421Z",
     "shell.execute_reply": "2025-09-17T09:42:07.997470Z"
    },
    "papermill": {
     "duration": 10.020103,
     "end_time": "2025-09-17T09:42:08.000108",
     "exception": false,
     "start_time": "2025-09-17T09:41:57.980005",
     "status": "completed"
    },
    "tags": []
   },
   "outputs": [
    {
     "name": "stdout",
     "output_type": "stream",
     "text": [
      "Executing BigQuery query to create/replace table 'concept_content'...\n",
      "Table 'concept_content' created/replaced successfully.\n",
      "\n",
      "Fetching first 5 rows from the new table for verification...\n",
      "First 5 rows of `{DATASET_TABLE}`:\n",
      "              unique_id  person_id  condition_concept_id  ancestor_concept_id  \\\n",
      "0   9162356362183702560          5                 75354              4339410   \n",
      "1  -3734727697654512988          5                 75354              4047779   \n",
      "2   1451937513510571916          5                 75354               135930   \n",
      "3  -7248760852020396966          5                 75354                75909   \n",
      "4  -2825475134957499944          5                 75354              4208786   \n",
      "\n",
      "  condition_start_date condition_end_date  \\\n",
      "0           2008-06-01         2008-06-01   \n",
      "1           2008-06-01         2008-06-01   \n",
      "2           2008-06-01         2008-06-01   \n",
      "3           2008-06-01         2008-06-01   \n",
      "4           2008-06-01         2008-06-01   \n",
      "\n",
      "                                     concept_details generated_report  \\\n",
      "0  Condition Name: Osteochondropathy\\nAncestor Na...             None   \n",
      "1  Condition Name: Osteochondropathy\\nAncestor Na...             None   \n",
      "2  Condition Name: Osteochondropathy\\nAncestor Na...             None   \n",
      "3  Condition Name: Osteochondropathy\\nAncestor Na...             None   \n",
      "4  Condition Name: Osteochondropathy\\nAncestor Na...             None   \n",
      "\n",
      "  report_embeddings  \n",
      "0                []  \n",
      "1                []  \n",
      "2                []  \n",
      "3                []  \n",
      "4                []  \n"
     ]
    }
   ],
   "source": [
    "#Import necessary libraries for BigQuery and data handling\n",
    "from google.cloud import bigquery\n",
    "import pandas as pd\n",
    "\n",
    "#BigQuery Client\n",
    "client = bigquery.Client(project=PROJECT_ID)\n",
    "\n",
    "#Query setup, joining tables together from the public dataset to create our own. Lacks a unique identifier, so we use FARM_FINGERPRINT to make one.\n",
    "# This query will create or replace the 'DATASET_TABLE' table in your dataset.\n",
    "query = f\"\"\"\n",
    "CREATE OR REPLACE TABLE `{PROJECT_ID}.{DATASET_ID}.{DATASET_TABLE}` AS\n",
    "WITH RankedConditions AS (\n",
    "    SELECT\n",
    "        t1.person_id,\n",
    "        t1.condition_concept_id,\n",
    "        t3.ancestor_concept_id,\n",
    "        ANY_VALUE(t1.condition_start_date) AS condition_start_date,\n",
    "        ANY_VALUE(t1.condition_end_date) AS condition_end_date,\n",
    "        FORMAT('Condition Name: %s\\\\nAncestor Name: %s',\n",
    "               ANY_VALUE(t2.concept_name),\n",
    "               ANY_VALUE(t4.concept_name)) AS concept_details,\n",
    "        CAST(NULL AS STRING) AS generated_report,\n",
    "        CAST(NULL AS ARRAY<FLOAT64>) AS report_embeddings,\n",
    "        ROW_NUMBER() OVER(PARTITION BY t1.person_id ORDER BY ANY_VALUE(t1.condition_start_date)) AS row_num\n",
    "    FROM\n",
    "        `bigquery-public-data.cms_synthetic_patient_data_omop.condition_occurrence` AS t1\n",
    "    JOIN\n",
    "        (SELECT DISTINCT person_id FROM `bigquery-public-data.cms_synthetic_patient_data_omop.person` ORDER BY person_id LIMIT {PATIENTS_TO_PROCESS}) AS limited_persons\n",
    "        ON t1.person_id = limited_persons.person_id\n",
    "    JOIN\n",
    "        `bigquery-public-data.cms_synthetic_patient_data_omop.concept` AS t2\n",
    "        ON t1.condition_concept_id = t2.concept_id\n",
    "    JOIN\n",
    "        `bigquery-public-data.cms_synthetic_patient_data_omop.concept_ancestor` AS t3\n",
    "        ON t1.condition_concept_id = t3.descendant_concept_id\n",
    "    JOIN\n",
    "        `bigquery-public-data.cms_synthetic_patient_data_omop.concept` AS t4\n",
    "        ON t3.ancestor_concept_id = t4.concept_id\n",
    "    GROUP BY\n",
    "        t1.person_id,\n",
    "        t1.condition_concept_id,\n",
    "        t3.ancestor_concept_id\n",
    ")\n",
    "SELECT\n",
    "    FARM_FINGERPRINT(TO_JSON_STRING(STRUCT(person_id, condition_concept_id, ancestor_concept_id))) AS unique_id,\n",
    "    person_id,\n",
    "    condition_concept_id,\n",
    "    ancestor_concept_id,\n",
    "    condition_start_date,\n",
    "    condition_end_date,\n",
    "    concept_details,\n",
    "    generated_report,\n",
    "    report_embeddings\n",
    "FROM\n",
    "    RankedConditions\n",
    "WHERE\n",
    "    row_num <= {REPORTS_PER_PATIENT};\n",
    "\"\"\"\n",
    "\n",
    "print(f\"Executing BigQuery query to create/replace table '{DATASET_TABLE}'...\")\n",
    "# Run the query\n",
    "query_job = client.query(query)\n",
    "# Wait for the query to complete\n",
    "query_job.result()\n",
    "print(f\"Table '{DATASET_TABLE}' created/replaced successfully.\")\n",
    "\n",
    "#Querying the resulting table to show the data we are working with.\n",
    "print(\"\\nFetching first 5 rows from the new table for verification...\")\n",
    "query_results_sql = f\"\"\"\n",
    "SELECT *\n",
    "FROM `{PROJECT_ID}.{DATASET_ID}.{DATASET_TABLE}`\n",
    "LIMIT 5;\n",
    "\"\"\"\n",
    "df_results = client.query(query_results_sql).to_dataframe()\n",
    "\n",
    "print(\"First 5 rows of `{DATASET_TABLE}`:\")\n",
    "print(df_results)"
   ]
  },
  {
   "cell_type": "markdown",
   "id": "31dc5f8d",
   "metadata": {
    "papermill": {
     "duration": 0.005598,
     "end_time": "2025-09-17T09:42:08.011951",
     "exception": false,
     "start_time": "2025-09-17T09:42:08.006353",
     "status": "completed"
    },
    "tags": []
   },
   "source": [
    "#### Generating fully fletched SOAP reports\n",
    "Initially I worked with this data, but my results were frankly quite middling.\n",
    "This is because, as you can see in these first 5 rows; the Condition name and Ancestor Name combine to about... 4 words?\n",
    "It's hard to embed something meaningful out of this, when it is so tiny and the terms used are quite generic.\n",
    "\n",
    "To fix this, we will use these keywords to generate our own ficticious patient reports.\n",
    "For this, I picked SOAP standard reporting - A standard medical protocol that gives incredibly consistent output.\n",
    "The generated SOAP reports are quite dense and contain a high standard of information, easily beating out the condition/ancestor combination I used earlier.\n",
    "Later, we will use these SOAP reports to create a proper vector search embedding.\n",
    "\n",
    "To do this, we will need to to create the model that will generate these reports for us.\n",
    "Luckily, you can do that with a BigQuery query!"
   ]
  },
  {
   "cell_type": "code",
   "execution_count": 5,
   "id": "693f298a",
   "metadata": {
    "execution": {
     "iopub.execute_input": "2025-09-17T09:42:08.024722Z",
     "iopub.status.busy": "2025-09-17T09:42:08.024390Z",
     "iopub.status.idle": "2025-09-17T09:42:08.028574Z",
     "shell.execute_reply": "2025-09-17T09:42:08.027708Z"
    },
    "papermill": {
     "duration": 0.01225,
     "end_time": "2025-09-17T09:42:08.029979",
     "exception": false,
     "start_time": "2025-09-17T09:42:08.017729",
     "status": "completed"
    },
    "tags": []
   },
   "outputs": [],
   "source": [
    "GENERATION_MODEL_NAME = \"report_generation\" #Set this to what you want the ML model to be named.\n",
    "GENERATION_MODEL_TYPE = \"gemini-2.5-flash-lite\" #What model do you want to use."
   ]
  },
  {
   "cell_type": "code",
   "execution_count": 6,
   "id": "f7f6d845",
   "metadata": {
    "execution": {
     "iopub.execute_input": "2025-09-17T09:42:08.042960Z",
     "iopub.status.busy": "2025-09-17T09:42:08.042658Z",
     "iopub.status.idle": "2025-09-17T09:42:10.790851Z",
     "shell.execute_reply": "2025-09-17T09:42:10.789891Z"
    },
    "papermill": {
     "duration": 2.756605,
     "end_time": "2025-09-17T09:42:10.792432",
     "exception": false,
     "start_time": "2025-09-17T09:42:08.035827",
     "status": "completed"
    },
    "tags": []
   },
   "outputs": [
    {
     "name": "stdout",
     "output_type": "stream",
     "text": [
      "Model created successfully.\n"
     ]
    }
   ],
   "source": [
    "full_model_name = f\"`{PROJECT_ID}.{DATASET_ID}.{GENERATION_MODEL_NAME}`\"\n",
    "\n",
    "model_generation_query = f\"\"\"\n",
    "CREATE OR REPLACE MODEL {full_model_name}\n",
    "REMOTE WITH CONNECTION DEFAULT\n",
    "OPTIONS(ENDPOINT = '{GENERATION_MODEL_TYPE}')\n",
    "\"\"\"\n",
    "\n",
    "try:\n",
    "    # Execute the query\n",
    "    job = client.query(model_generation_query)\n",
    "    job.result()  # Wait for the job to complete\n",
    "    print(\"Model created successfully.\")\n",
    "except Exception as e:\n",
    "    print(f\"An error occurred: {e}\")"
   ]
  },
  {
   "cell_type": "markdown",
   "id": "c219e655",
   "metadata": {
    "papermill": {
     "duration": 0.005821,
     "end_time": "2025-09-17T09:42:10.804695",
     "exception": false,
     "start_time": "2025-09-17T09:42:10.798874",
     "status": "completed"
    },
    "tags": []
   },
   "source": [
    "Now that we have a model, we can use it to generate text with ML.GENERATE_TEXT.\n",
    "Using BigQueryML, we take the condition and ancestor from the data and add it to the CONCAT.\n",
    "\n",
    "The prompt is inside the CONCAT statement as you can see; it explains the setup of a SOAP report, gives the concept_details, and then Gemini generates them.\n",
    "We then update our existing database's generated_report column with the output.\n",
    "\n",
    "With the default settings of 10 people and 50 reports per, there should be 500 reports to generate split into batches of 100."
   ]
  },
  {
   "cell_type": "code",
   "execution_count": 7,
   "id": "1bdc1690",
   "metadata": {
    "execution": {
     "iopub.execute_input": "2025-09-17T09:42:10.817963Z",
     "iopub.status.busy": "2025-09-17T09:42:10.817445Z",
     "iopub.status.idle": "2025-09-17T09:43:52.520173Z",
     "shell.execute_reply": "2025-09-17T09:43:52.518813Z"
    },
    "papermill": {
     "duration": 101.711399,
     "end_time": "2025-09-17T09:43:52.521841",
     "exception": false,
     "start_time": "2025-09-17T09:42:10.810442",
     "status": "completed"
    },
    "tags": []
   },
   "outputs": [
    {
     "name": "stdout",
     "output_type": "stream",
     "text": [
      "Executing update query using BigQuery ML model 'report_generation'...\n",
      "\n",
      "Update completed. 100 reports generated and saved.\n",
      "\n",
      "Update completed. 100 reports generated and saved.\n",
      "\n",
      "Update completed. 100 reports generated and saved.\n",
      "\n",
      "Update completed. 100 reports generated and saved.\n",
      "\n",
      "Update completed. 100 reports generated and saved.\n",
      "\n",
      "Update completed. 0 reports generated and saved.\n",
      "All records have been updated. The process is complete.\n",
      "\n",
      "Fetching first 5 rows with the new generated reports for verification...\n",
      "First 5 rows of `concept_content` with generated reports:\n",
      "   person_id                                    concept_details  \\\n",
      "0          5  Condition Name: Osteochondropathy\\nAncestor Na...   \n",
      "1          5  Condition Name: Osteochondropathy\\nAncestor Na...   \n",
      "2          5  Condition Name: Osteochondropathy\\nAncestor Na...   \n",
      "3          5  Condition Name: Osteochondropathy\\nAncestor Na...   \n",
      "4          5  Condition Name: Osteochondropathy\\nAncestor Na...   \n",
      "\n",
      "                                    generated_report  \n",
      "0  **Subjective:**\\nPatient reports persistent, d...  \n",
      "1  Subjective: Patient reports persistent, dull a...  \n",
      "2  **Subjective:**\\nPatient reports a persistent,...  \n",
      "3  **Subjective:**\\nPatient reports persistent, d...  \n",
      "4  **Subjective:**\\nPatient reports persistent, d...  \n"
     ]
    }
   ],
   "source": [
    "from google.cloud import bigquery\n",
    "import time\n",
    "\n",
    "# Initialize the BigQuery client\n",
    "client = bigquery.Client(project=PROJECT_ID)\n",
    "\n",
    "#The update query to call the Gemini model for each row.\n",
    "#We'll use a `WHERE` clause to process only rows where the report is still NULL.\n",
    "#This prevents reprocessing the same data if the script is run again.\n",
    "update_query = f\"\"\"\n",
    "UPDATE `{PROJECT_ID}.{DATASET_ID}.{DATASET_TABLE}` AS t\n",
    "SET\n",
    "    t.generated_report = model_output.ml_generate_text_llm_result\n",
    "FROM\n",
    "    ML.GENERATE_TEXT(\n",
    "        MODEL `{PROJECT_ID}.{DATASET_ID}.{GENERATION_MODEL_NAME }`,\n",
    "        (\n",
    "            SELECT\n",
    "                \n",
    "                t.unique_id AS unique_row_id,\n",
    "                CONCAT(\n",
    "                    \"Generate a detailed and fictional patient progress note using the SOAP (Subjective, Objective, Assessment, Plan) format for the following patient data. \",\n",
    "                    \"Do not include any personal identifying information. Keep the tone informative and formal. Do not include date or time, they are noted elsewhere - only report the details of SOAP, and nothing else. \",\n",
    "                    \"Patient Data: \", t.concept_details,\n",
    "                    \"\\\\nSubjective Based on the patient's condition, describe the patient's chief complaint or subjective narrative of their symptoms.\",\n",
    "                    \"\\\\nObjective Based on the patient's condition, provide an objective description of the findings, such as physical examination results or lab work (create fictional but plausible details).\",\n",
    "                    \"\\\\nAssessment Formulate a differential diagnosis or an assessment of the patient's condition based on the subjective and objective information.\",\n",
    "                    \"\\\\nPlan Outline a plan for the patient's treatment, follow-up, and further testing.\"\n",
    "                ) AS prompt\n",
    "            FROM\n",
    "                `{PROJECT_ID}.{DATASET_ID}.{DATASET_TABLE}` AS t\n",
    "            WHERE\n",
    "                t.generated_report IS NULL\n",
    "            LIMIT 100\n",
    "        ),\n",
    "        STRUCT(\n",
    "            1024 AS max_output_tokens,\n",
    "            0.5 AS temperature,\n",
    "            TRUE AS flatten_json_output\n",
    "        )\n",
    "    ) AS model_output\n",
    "WHERE\n",
    "    t.unique_id = model_output.unique_row_id;\n",
    "\"\"\"\n",
    "\n",
    "print(f\"Executing update query using BigQuery ML model '{GENERATION_MODEL_NAME }'...\")\n",
    "\n",
    "#Loop until all rows have been updated\n",
    "while True:\n",
    "    #Run the update query\n",
    "    query_job = client.query(update_query)\n",
    "\n",
    "    #Wait for the query to complete\n",
    "    query_job.result()\n",
    "\n",
    "    #Get the number of rows affected by the UPDATE statement\n",
    "    rows_affected = query_job.num_dml_affected_rows\n",
    "\n",
    "    print(f\"\\nUpdate completed. {rows_affected} reports generated and saved.\")\n",
    "\n",
    "    #If no rows were affected, we have processed all of them.\n",
    "    if rows_affected == 0:\n",
    "        print(\"All records have been updated. The process is complete.\")\n",
    "        break\n",
    "\n",
    "    #Pause briefly between loops to avoid rate-limiting issues.\n",
    "    time.sleep(1)\n",
    "\n",
    "print(\"\\nFetching first 5 rows with the new generated reports for verification...\")\n",
    "\n",
    "verification_query = f\"\"\"\n",
    "SELECT\n",
    "    person_id,\n",
    "    concept_details,\n",
    "    generated_report\n",
    "FROM `{PROJECT_ID}.{DATASET_ID}.{DATASET_TABLE}`\n",
    "WHERE generated_report IS NOT NULL\n",
    "LIMIT 5;\n",
    "\"\"\"\n",
    "\n",
    "df_results = client.query(verification_query).to_dataframe()\n",
    "\n",
    "print(\"First 5 rows of `concept_content` with generated reports:\")\n",
    "print(df_results)"
   ]
  },
  {
   "cell_type": "markdown",
   "id": "1be50595",
   "metadata": {
    "papermill": {
     "duration": 0.006113,
     "end_time": "2025-09-17T09:43:52.534724",
     "exception": false,
     "start_time": "2025-09-17T09:43:52.528611",
     "status": "completed"
    },
    "tags": []
   },
   "source": [
    "We now have all our data! And its quite bolsterous too!"
   ]
  },
  {
   "cell_type": "markdown",
   "id": "e1cb6f7e",
   "metadata": {
    "papermill": {
     "duration": 0.00598,
     "end_time": "2025-09-17T09:43:52.547029",
     "exception": false,
     "start_time": "2025-09-17T09:43:52.541049",
     "status": "completed"
    },
    "tags": []
   },
   "source": [
    "# Embedding our reports\n",
    "\n",
    "For those unfamiliar, with Embeddings we 'vectorize' the words; this lets us store the meaning of a word rather than just the letters itself, which in turn lets you query for them later; vectorizing the word 'phone' will store it alongside similar words like 'telephone', 'mobile phone', or maybe even some phone brands. In a medical context, we're basically grouping similar reports together. \n",
    "When then asking a question, we will scoop up reports that are very close to the embedded version of what we are asking, thus getting only relevant reports back.\n",
    "\n",
    "Like before, we need to generate an ML model for this.\n",
    "I'll be using Google's own text-embedding model."
   ]
  },
  {
   "cell_type": "code",
   "execution_count": 8,
   "id": "9750352e",
   "metadata": {
    "execution": {
     "iopub.execute_input": "2025-09-17T09:43:52.560712Z",
     "iopub.status.busy": "2025-09-17T09:43:52.560387Z",
     "iopub.status.idle": "2025-09-17T09:43:52.564624Z",
     "shell.execute_reply": "2025-09-17T09:43:52.563788Z"
    },
    "papermill": {
     "duration": 0.012949,
     "end_time": "2025-09-17T09:43:52.566158",
     "exception": false,
     "start_time": "2025-09-17T09:43:52.553209",
     "status": "completed"
    },
    "tags": []
   },
   "outputs": [],
   "source": [
    "EMBEDDING_MODEL_NAME = \"embedding_generation\" #Set this to what you want the ML model to be named.\n",
    "EMBEDDING_MODEL_TYPE = \"text-embedding-005\" #What model do you want to use."
   ]
  },
  {
   "cell_type": "code",
   "execution_count": 9,
   "id": "f1582c41",
   "metadata": {
    "execution": {
     "iopub.execute_input": "2025-09-17T09:43:52.581374Z",
     "iopub.status.busy": "2025-09-17T09:43:52.581059Z",
     "iopub.status.idle": "2025-09-17T09:43:55.461875Z",
     "shell.execute_reply": "2025-09-17T09:43:55.460857Z"
    },
    "papermill": {
     "duration": 2.890933,
     "end_time": "2025-09-17T09:43:55.463498",
     "exception": false,
     "start_time": "2025-09-17T09:43:52.572565",
     "status": "completed"
    },
    "tags": []
   },
   "outputs": [
    {
     "name": "stdout",
     "output_type": "stream",
     "text": [
      "Model created successfully.\n"
     ]
    }
   ],
   "source": [
    "full_model_name = f\"`{PROJECT_ID}.{DATASET_ID}.{EMBEDDING_MODEL_NAME}`\"\n",
    "\n",
    "model_generation_query = f\"\"\"\n",
    "CREATE OR REPLACE MODEL {full_model_name}\n",
    "REMOTE WITH CONNECTION DEFAULT\n",
    "OPTIONS(ENDPOINT = '{EMBEDDING_MODEL_TYPE}')\n",
    "\"\"\"\n",
    "\n",
    "try:\n",
    "    # Execute the query\n",
    "    job = client.query(model_generation_query)\n",
    "    job.result()  # Wait for the job to complete\n",
    "    \n",
    "    print(\"Model created successfully.\")\n",
    "except Exception as e:\n",
    "    print(f\"An error occurred: {e}\")"
   ]
  },
  {
   "cell_type": "markdown",
   "id": "f2a8658a",
   "metadata": {
    "papermill": {
     "duration": 0.006149,
     "end_time": "2025-09-17T09:43:55.476338",
     "exception": false,
     "start_time": "2025-09-17T09:43:55.470189",
     "status": "completed"
    },
    "tags": []
   },
   "source": [
    "Now that we have our model, we can create embeddings.\n",
    "For each row of our dataset, the content gets turned into embeddings and written back to our table. We can use the dedicated ML.GENERATE_EMBEDDING for this\n",
    "\n"
   ]
  },
  {
   "cell_type": "code",
   "execution_count": 10,
   "id": "cd3dacda",
   "metadata": {
    "execution": {
     "iopub.execute_input": "2025-09-17T09:43:55.490573Z",
     "iopub.status.busy": "2025-09-17T09:43:55.490287Z",
     "iopub.status.idle": "2025-09-17T09:44:41.365572Z",
     "shell.execute_reply": "2025-09-17T09:44:41.364434Z"
    },
    "papermill": {
     "duration": 45.884498,
     "end_time": "2025-09-17T09:44:41.367046",
     "exception": false,
     "start_time": "2025-09-17T09:43:55.482548",
     "status": "completed"
    },
    "tags": []
   },
   "outputs": [
    {
     "name": "stdout",
     "output_type": "stream",
     "text": [
      "Embedding reports using the BigQuery ML model  and updating the 'concept_content' table...\n",
      "\n",
      "Merge completed. 100 reports embedded and saved.\n",
      "\n",
      "Merge completed. 100 reports embedded and saved.\n",
      "\n",
      "Merge completed. 100 reports embedded and saved.\n",
      "\n",
      "Merge completed. 100 reports embedded and saved.\n",
      "\n",
      "Merge completed. 100 reports embedded and saved.\n",
      "\n",
      "Merge completed. 0 reports embedded and saved.\n",
      "All records have been embedded. The process is complete.\n",
      "\n",
      "Fetching first 5 rows with the new embeddings for verification...\n",
      "First 5 rows of `concept_content` with generated embeddings:\n",
      "   person_id                                   generated_report  \\\n",
      "0          5  **Subjective:**\\nPatient reports persistent, l...   \n",
      "1          5  **S:** Patient reports a persistent, dull ache...   \n",
      "2          5  **Subjective:**\\nPatient reports persistent, l...   \n",
      "3          5  **Subjective:**\\nPatient reports a gradual ons...   \n",
      "4          5  **Subjective:**\\nPatient reports persistent, d...   \n",
      "\n",
      "                                   report_embeddings  \n",
      "0  [-0.0015532353427261114, -0.010266856290400028...  \n",
      "1  [0.012350707314908504, -0.013820609077811241, ...  \n",
      "2  [0.03343495354056358, -0.0018276851624250412, ...  \n",
      "3  [0.012444081716239452, -0.0009079352603293955,...  \n",
      "4  [0.014718190766870975, -0.0006305298884399235,...  \n"
     ]
    }
   ],
   "source": [
    "from google.cloud import bigquery\n",
    "import time\n",
    "\n",
    "# Initialize the BigQuery client\n",
    "client = bigquery.Client(project=PROJECT_ID)\n",
    "\n",
    "merge_query = f\"\"\"\n",
    "MERGE `{PROJECT_ID}.{DATASET_ID}.{DATASET_TABLE}` AS T\n",
    "USING (\n",
    "  WITH ReportsToEmbed AS (\n",
    "    SELECT\n",
    "      t.unique_id,\n",
    "      t.generated_report AS content,\n",
    "      ROW_NUMBER() OVER() AS row_num\n",
    "    FROM\n",
    "      `{PROJECT_ID}.{DATASET_ID}.{DATASET_TABLE}` AS t\n",
    "    WHERE\n",
    "      t.generated_report IS NOT NULL AND (t.report_embeddings IS NULL OR ARRAY_LENGTH(t.report_embeddings) = 0)\n",
    "    LIMIT 100\n",
    "  ),\n",
    "  EmbeddingsWithId AS (\n",
    "    SELECT\n",
    "      ml_generate_embedding_result,\n",
    "      ROW_NUMBER() OVER() AS row_num\n",
    "    FROM\n",
    "      ML.GENERATE_EMBEDDING(\n",
    "        MODEL `{PROJECT_ID}.{DATASET_ID}.{EMBEDDING_MODEL_NAME}`,\n",
    "        (SELECT content FROM ReportsToEmbed ORDER BY row_num)\n",
    "      )\n",
    "  )\n",
    "  SELECT\n",
    "    r.unique_id,\n",
    "    e.ml_generate_embedding_result\n",
    "  FROM\n",
    "    ReportsToEmbed r\n",
    "  JOIN\n",
    "    EmbeddingsWithId e\n",
    "  ON\n",
    "    r.row_num = e.row_num\n",
    ") AS S\n",
    "ON T.unique_id = S.unique_id\n",
    "WHEN MATCHED THEN\n",
    "  UPDATE SET T.report_embeddings = S.ml_generate_embedding_result;\n",
    "\"\"\"\n",
    "\n",
    "print(f\"Embedding reports using the BigQuery ML model  and updating the '{DATASET_TABLE}' table...\")\n",
    "\n",
    "# Loop until all reports have been embedded\n",
    "while True:\n",
    "    #Run the MERGE query\n",
    "    query_job = client.query(merge_query)\n",
    "\n",
    "    #Wait for the query to complete\n",
    "    query_job.result()\n",
    "\n",
    "    #Get the number of rows affected by the MERGE statement\n",
    "    rows_affected = query_job.num_dml_affected_rows\n",
    "\n",
    "    print(f\"\\nMerge completed. {rows_affected} reports embedded and saved.\")\n",
    "\n",
    "    # If no rows were affected, all reports have been processed.\n",
    "    if rows_affected == 0:\n",
    "        print(\"All records have been embedded. The process is complete.\")\n",
    "        break\n",
    "\n",
    "    # Optional: Pause briefly between loops to avoid rate-limiting issues.\n",
    "    time.sleep(1)\n",
    "\n",
    "print(\"\\nFetching first 5 rows with the new embeddings for verification...\")\n",
    "\n",
    "verification_query = f\"\"\"\n",
    "SELECT\n",
    "    person_id,\n",
    "    generated_report,\n",
    "    report_embeddings\n",
    "FROM `{PROJECT_ID}.{DATASET_ID}.{DATASET_TABLE}`\n",
    "WHERE report_embeddings IS NOT NULL\n",
    "LIMIT 5;\n",
    "\"\"\"\n",
    "\n",
    "df_results = client.query(verification_query).to_dataframe()\n",
    "\n",
    "print(\"First 5 rows of `concept_content` with generated embeddings:\")\n",
    "print(df_results)"
   ]
  },
  {
   "cell_type": "markdown",
   "id": "ab9c26b2",
   "metadata": {
    "papermill": {
     "duration": 0.006552,
     "end_time": "2025-09-17T09:44:41.380443",
     "exception": false,
     "start_time": "2025-09-17T09:44:41.373891",
     "status": "completed"
    },
    "tags": []
   },
   "source": [
    "We've not successfully embedded the content!\n",
    "As you can see by the output, the report_embeddings are now entirely unreadable for humans but it is key to perform a similarity search."
   ]
  },
  {
   "cell_type": "markdown",
   "id": "5524d2c5",
   "metadata": {
    "papermill": {
     "duration": 0.006403,
     "end_time": "2025-09-17T09:44:41.393467",
     "exception": false,
     "start_time": "2025-09-17T09:44:41.387064",
     "status": "completed"
    },
    "tags": []
   },
   "source": [
    "# Querying our Embeddings.\n",
    "\n",
    "\n",
    "As a proof of concept, we will now query a symptom against our data. Because our reports are done per person, we can query it for only 1 patient and see what reports are similar to what we asked.\n",
    "There are multiple ways to do this, but to stay on theme here I want to keep using BigQuery for it and use VECTOR_SEARCH function (I did initially also use ML.DISTANCE)\n",
    "\n",
    "For a more Google-minded approach, look into Vector Search: https://cloud.google.com/vertex-ai/docs/vector-search/overview - This, in my opnion, only gets interesting with huge datasets.\n",
    "My preferred method is using the sklearn python library, however I have not done that at scale.\n",
    "\n",
    "On top of the similarity search, I added a minimal_similarity treshold - this is to not waste the caretakers time by giving irrelevant results back. This is important in any and all Vector Searches, as the code as is will always try to return the highest ranking results even if they barely match at all.\n"
   ]
  },
  {
   "cell_type": "code",
   "execution_count": 11,
   "id": "80094f8d",
   "metadata": {
    "execution": {
     "iopub.execute_input": "2025-09-17T09:44:41.408438Z",
     "iopub.status.busy": "2025-09-17T09:44:41.408114Z",
     "iopub.status.idle": "2025-09-17T09:44:41.412627Z",
     "shell.execute_reply": "2025-09-17T09:44:41.411773Z"
    },
    "papermill": {
     "duration": 0.01411,
     "end_time": "2025-09-17T09:44:41.414354",
     "exception": false,
     "start_time": "2025-09-17T09:44:41.400244",
     "status": "completed"
    },
    "tags": []
   },
   "outputs": [],
   "source": [
    "query = \"Lower back problems\"\n",
    "patient_id = 1\n",
    "start_date = \"2009-01-01\"\n",
    "end_date = \"2010-01-01\""
   ]
  },
  {
   "cell_type": "code",
   "execution_count": 12,
   "id": "084fb65c",
   "metadata": {
    "execution": {
     "iopub.execute_input": "2025-09-17T09:44:41.430081Z",
     "iopub.status.busy": "2025-09-17T09:44:41.429407Z",
     "iopub.status.idle": "2025-09-17T09:44:47.722960Z",
     "shell.execute_reply": "2025-09-17T09:44:47.721862Z"
    },
    "papermill": {
     "duration": 6.303543,
     "end_time": "2025-09-17T09:44:47.724788",
     "exception": false,
     "start_time": "2025-09-17T09:44:41.421245",
     "status": "completed"
    },
    "tags": []
   },
   "outputs": [
    {
     "name": "stdout",
     "output_type": "stream",
     "text": [
      "Performing similarity search using BigQuery ML for query: 'Lower back problems'\n",
      "\n",
      "--- Top Matching Concepts for query: 'Lower back problems' ---\n",
      "\n",
      "Rank 1: Score = 0.6916\n",
      "  Concept: Condition Name: Low back pain\n",
      "Ancestor Name: Pain finding at anatomical site\n",
      "  Details: **Subjective:**\n",
      "Patient reports persistent, dull, achy pain localized to the lower lumbar region, specifically described as radiating into the bilateral gluteal areas. Pain onset was gradual, with no specific inciting incident reported. Patient quantifies pain as 6/10 at its worst, improving to 3/10 with rest. Pain is exacerbated by prolonged sitting, standing, and bending forward. Patient denies any numbness, tingling, or weakness in the lower extremities. Bowel and bladder function are reported as normal. Patient has attempted over-the-counter ibuprofen with minimal relief.\n",
      "\n",
      "**Objective:**\n",
      "Physical examination reveals a well-appearing patient in no acute distress. Lumbar spine range of motion is limited in flexion (to 50 degrees) and extension (to 10 degrees) due to pain. Lateral bending is mildly restricted bilaterally. Straight leg raise is negative bilaterally to 70 degrees. Palpation of the lumbar paraspinal muscles reveals moderate tenderness and guarding. No step-offs or deformities noted in the lumbar spine. Neurological examination of the lower extremities is grossly intact, with 5/5 motor strength in bilateral hip flexion, knee extension, ankle dorsiflexion, and plantarflexion. Sensation is intact to light touch in all dermatomes. Deep tendon reflexes are 2+ and symmetric at the patellar and Achilles tendons.\n",
      "\n",
      "**Assessment:**\n",
      "1.  **Low back pain, likely mechanical in origin:** The patient's symptoms and physical examination findings are consistent with a musculoskeletal etiology. The absence of radicular symptoms, neurological deficits, or red flag symptoms makes serious underlying pathology less likely at this time.\n",
      "2.  **Possible lumbar muscle strain/sprain:** The tenderness and guarding in the paraspinal muscles, coupled with pain exacerbated by movement, suggest a possible strain or sprain of the lumbar musculature.\n",
      "3.  **Differential considerations include:** Degenerative disc disease, facet joint arthropathy, or myofascial pain syndrome.\n",
      "\n",
      "**Plan:**\n",
      "1.  **Conservative Management:**\n",
      "    *   Continue activity modification, avoiding aggravating movements.\n",
      "    *   Recommend application of heat or ice to the affected area for 15-20 minutes several times daily.\n",
      "    *   Prescribe a course of scheduled NSAIDs (e.g., naproxen 500 mg BID) for pain and inflammation, with consideration for gastroprotection if indicated.\n",
      "    *   Initiate physical therapy referral for a structured program including stretching, strengthening exercises for core and back muscles, and education on proper body mechanics.\n",
      "2.  **Patient Education:**\n",
      "    *   Educate patient on the likely benign nature of their pain and the expected benefits of conservative treatment.\n",
      "    *   Discuss strategies for pain management and prevention of recurrence.\n",
      "3.  **Follow-up:**\n",
      "    *   Schedule follow-up appointment in 2-4 weeks to assess response to treatment.\n",
      "4.  **Further Testing:**\n",
      "    *   Consider lumbar spine X-rays if symptoms do not improve with conservative management or if red flag symptoms develop. MRI of the lumbar spine may be considered if neurological deficits emerge or if persistent, severe pain is unresponsive to adequate conservative therapy.\n",
      "------------\n",
      "\n",
      "Rank 2: Score = 0.6913\n",
      "  Concept: Condition Name: Low back pain\n",
      "Ancestor Name: Pain\n",
      "  Details: **Subjective:**\n",
      "Patient reports a chief complaint of low back pain, which began approximately 3 days ago. The pain is described as a dull ache, rated 6/10 at its worst, and localized to the lumbar region with occasional radiation into the left buttock. Patient states the pain is exacerbated by prolonged sitting and bending forward, and is partially relieved by lying down. No reports of numbness, tingling, or weakness in the lower extremities. Denies any recent trauma or injury. Reports difficulty sleeping due to discomfort.\n",
      "\n",
      "**Objective:**\n",
      "Physical examination reveals a well-appearing individual in no acute distress. Lumbar spine shows mild tenderness to palpation over the paraspinal muscles bilaterally, with greater tenderness noted on the left. Range of motion of the lumbar spine is limited in flexion (to approximately 45 degrees) and extension (to approximately 10 degrees) due to pain. Straight leg raise test is negative bilaterally. Neurological examination of the lower extremities is grossly intact, with intact sensation to light touch, 5/5 motor strength in bilateral hip flexion, knee extension, ankle dorsiflexion, and plantarflexion. Deep tendon reflexes are 2+ and symmetric at the patellar and Achilles tendons. No edema or erythema noted in the lower extremities.\n",
      "\n",
      "**Assessment:**\n",
      "The patient's presentation is consistent with acute mechanical low back pain, likely secondary to muscle strain or ligamentous sprain. The absence of neurological deficits, red flag symptoms (e.g., fever, weight loss, bowel/bladder dysfunction), and history of trauma makes serious underlying pathology less likely at this time. Differential diagnoses include lumbar muscle strain, lumbar ligamentous sprain, and early degenerative disc disease.\n",
      "\n",
      "**Plan:**\n",
      "1.  **Pain Management:** Recommend over-the-counter analgesics such as acetaminophen or ibuprofen as needed for pain relief, taken with food.\n",
      "2.  **Activity Modification:** Advise patient to avoid activities that exacerbate pain, such as prolonged sitting, heavy lifting, and forceful bending. Encourage gentle movement and stretching as tolerated.\n",
      "3.  **Physical Therapy:** Refer patient for outpatient physical therapy to focus on core strengthening, stretching, and education on proper body mechanics.\n",
      "4.  **Follow-up:** Schedule a follow-up appointment in 2 weeks to reassess symptoms and response to treatment. If symptoms do not improve or worsen, further investigation may be warranted.\n",
      "5.  **Patient Education:** Educate patient on the expected course of acute low back pain and strategies for self-management. Advise to return to clinic immediately if any new neurological symptoms develop (e.g., numbness, weakness, bowel/bladder changes).\n",
      "------------\n",
      "\n",
      "Rank 3: Score = 0.6902\n",
      "  Concept: Condition Name: Low back pain\n",
      "Ancestor Name: Finding of body region\n",
      "  Details: **Subjective:**\n",
      "Patient reports a chief complaint of persistent low back pain, described as a dull, aching sensation localized to the lumbar region. Pain intensity is reported as 5/10 at rest, increasing to 7/10 with prolonged sitting or standing, and 8/10 with bending or lifting. Patient denies radiation of pain into the lower extremities, numbness, or tingling. Patient reports occasional stiffness in the morning, which improves with movement. No history of recent trauma or injury. Patient states pain has been present for approximately 3 weeks and has gradually worsened. Over-the-counter analgesics provide minimal relief.\n",
      "\n",
      "**Objective:**\n",
      "Physical examination reveals a well-appearing patient in no acute distress. Lumbar spine demonstrates normal lordotic curvature. Palpation of the paraspinal muscles reveals mild tenderness bilaterally at the L4-L5 level. Range of motion is limited in flexion to 60 degrees due to pain, with extension and lateral bending within normal limits but eliciting mild discomfort. Straight leg raise test is negative bilaterally. Neurological examination of the lower extremities is grossly intact, with intact sensation to light touch, 5/5 motor strength in all muscle groups, and 2+ deep tendon reflexes. No edema or erythema noted.\n",
      "\n",
      "**Assessment:**\n",
      "Low back pain, likely mechanical in nature, secondary to lumbar strain or myofascial pain syndrome. Differential diagnoses include lumbar disc herniation (less likely given absence of radicular symptoms), facet joint arthropathy, or spondylolisthesis. Further investigation may be warranted if symptoms persist or worsen.\n",
      "\n",
      "**Plan:**\n",
      "1. **Pain Management:** Recommend continued use of over-the-counter analgesics (e.g., acetaminophen or ibuprofen) as needed for pain relief. Advise on proper body mechanics for lifting and bending.\n",
      "2. **Activity Modification:** Encourage continued gentle activity and stretching. Avoid prolonged sitting or standing without breaks.\n",
      "3. **Physical Therapy:** Refer patient to physical therapy for a course of 6-8 weeks, focusing on core strengthening exercises, stretching, and manual therapy techniques.\n",
      "4. **Follow-up:** Schedule a follow-up appointment in 2-4 weeks to assess response to treatment.\n",
      "5. **Further Testing:** If symptoms do not improve with conservative management, consider lumbar spine X-rays or MRI to further evaluate for structural abnormalities.\n",
      "------------\n"
     ]
    }
   ],
   "source": [
    "import numpy as np\n",
    "import pandas as pd\n",
    "from google.cloud import bigquery\n",
    "from sklearn.metrics.pairwise import cosine_similarity\n",
    "from google import genai\n",
    "from google.cloud import aiplatform\n",
    "\n",
    "TOP_K_RESULTS = 3 #How many results we want returned\n",
    "MINIMAL_SIMILARITY = 0.6 #How good results have to be in order to be returned. \n",
    "\n",
    "def perform_similarity_search_bigquery_ml(query, patient_id, start_date, end_date):\n",
    "    client = bigquery.Client(project=PROJECT_ID)\n",
    "\n",
    "    try:\n",
    "        print(f\"Performing similarity search using BigQuery ML for query: '{query}'\")\n",
    "\n",
    "        # The SQL query to generate the query embedding and perform the search\n",
    "        sql_query = f\"\"\"\n",
    "        SELECT\n",
    "          base.concept_details,\n",
    "          base.generated_report,\n",
    "          1 - distance AS cosine_similarity -- Convert cosine distance to similarity\n",
    "        FROM\n",
    "          VECTOR_SEARCH(\n",
    "            (\n",
    "              SELECT\n",
    "                *\n",
    "              FROM\n",
    "                `{PROJECT_ID}.{DATASET_ID}.{DATASET_TABLE}`\n",
    "              WHERE\n",
    "                person_id = @patient_id\n",
    "                AND condition_start_date >= @start_date\n",
    "                AND condition_end_date < @end_date\n",
    "            ),\n",
    "            'report_embeddings', -- The column to search, as a string literal\n",
    "            (\n",
    "              SELECT\n",
    "                ml_generate_embedding_result AS embedding\n",
    "              FROM\n",
    "                ML.GENERATE_EMBEDDING(\n",
    "                  MODEL `{PROJECT_ID}.{DATASET_ID}.{EMBEDDING_MODEL_NAME}`,\n",
    "                  (SELECT @query AS content)\n",
    "                )\n",
    "            ),\n",
    "            query_column_to_search => 'embedding', -- Named argument for the query column\n",
    "            top_k => @top_k_results, -- Named argument for top_k\n",
    "            distance_type => 'COSINE' -- Named argument for distance_type\n",
    "          )\n",
    "        WHERE\n",
    "          1 - distance >= @minimal_similarity \n",
    "        ORDER BY\n",
    "          cosine_similarity DESC;\n",
    "        \"\"\"\n",
    "        \n",
    "        #Configure the query with parameters to prevent SQL injection and ensure type safety\n",
    "        job_config = bigquery.QueryJobConfig(\n",
    "            query_parameters=[\n",
    "                bigquery.ScalarQueryParameter(\"query\", \"STRING\", query),\n",
    "                bigquery.ScalarQueryParameter(\"patient_id\", \"INT64\", patient_id),\n",
    "                bigquery.ScalarQueryParameter(\"start_date\", \"STRING\", start_date),\n",
    "                bigquery.ScalarQueryParameter(\"end_date\", \"STRING\", end_date),\n",
    "                bigquery.ScalarQueryParameter(\"top_k_results\", \"INT64\", TOP_K_RESULTS),\n",
    "                bigquery.ScalarQueryParameter(\"minimal_similarity\", \"FLOAT64\", MINIMAL_SIMILARITY),\n",
    "\n",
    "            ]\n",
    "        )\n",
    "\n",
    "        #Run the query\n",
    "        query_job = client.query(sql_query, job_config=job_config)\n",
    "\n",
    "        #Load the results directly into a DataFrame\n",
    "        results_df = query_job.to_dataframe()\n",
    "\n",
    "        if results_df.empty:\n",
    "            print(\"No matching concepts found for the given criteria.\")\n",
    "            return\n",
    "\n",
    "        # Display the results\n",
    "        print(f\"\\n--- Top Matching Concepts for query: '{query}' ---\")\n",
    "        for rank, row in results_df.iterrows():\n",
    "            print(f\"\\nRank {rank + 1}: Score = {row['cosine_similarity']:.4f}\")\n",
    "            print(f\"  Concept: {row['concept_details']}\")\n",
    "            print(f\"  Details: {row['generated_report']}\")\n",
    "            print(\"------------\")\n",
    "\n",
    "    except Exception as e:\n",
    "        print(f\"An error occurred: {e}\")\n",
    "\n",
    "perform_similarity_search_bigquery_ml(query=query, patient_id=patient_id, start_date=start_date, end_date=end_date)"
   ]
  },
  {
   "cell_type": "markdown",
   "id": "e829dc86",
   "metadata": {
    "papermill": {
     "duration": 0.006951,
     "end_time": "2025-09-17T09:44:47.739214",
     "exception": false,
     "start_time": "2025-09-17T09:44:47.732263",
     "status": "completed"
    },
    "tags": []
   },
   "source": [
    "Like said before, we are keeping with the theme and using BigQueryML.\n",
    "\n",
    "A bit hard to describe as it's 1 big SQL statement, but we are doing the following:\n",
    "- Generating Embeddings for our Query, the same way we have done for our generated reports before. This makes them comparable to each other as they use the same embeddings/language.\n",
    "- Using VECTOR_SEARCH to compare this embedding to the embeddings from our table.\n",
    "- This performs a cosine similarity search to see how \"similar\" they are.\n",
    "- The top 3 reports then get returned to us.\n",
    "\n",
    "With the default values, I know patient 1 suffers from lower back problems by looking through the data prior.\n",
    "Indeed, the highest returning scores from our vector search for our question relates to their back issues. "
   ]
  },
  {
   "cell_type": "markdown",
   "id": "2ea0ef5d",
   "metadata": {
    "papermill": {
     "duration": 0.006752,
     "end_time": "2025-09-17T09:44:47.753118",
     "exception": false,
     "start_time": "2025-09-17T09:44:47.746366",
     "status": "completed"
    },
    "tags": []
   },
   "source": [
    "# Creating an Agent to call our function\n",
    "This is all well and good, but this isn't usable for a medical professional. At least, the ones I've met aren't proficient in Python and BigQuery.\n",
    "\n",
    "Using Gemini, we can interact with it and have it call our python functions when it deems appropiate.\n",
    "This is done using a concept called function calling - https://cloud.google.com/vertex-ai/generative-ai/docs/multimodal/function-calling\n",
    "\n",
    "In the following code we specify a prompt and a patient to ask it about.\n",
    "We then create a Tool; this is the format that Gemini uses to do Function Calling.\n",
    "Assuming we ask a good enough question, Gemini will then recognize it and fill in the function arguments for us.\n",
    "\n",
    "The code then executes the function with the params given by Gemini."
   ]
  },
  {
   "cell_type": "code",
   "execution_count": 13,
   "id": "4620914f",
   "metadata": {
    "execution": {
     "iopub.execute_input": "2025-09-17T09:44:47.769679Z",
     "iopub.status.busy": "2025-09-17T09:44:47.768558Z",
     "iopub.status.idle": "2025-09-17T09:44:47.773574Z",
     "shell.execute_reply": "2025-09-17T09:44:47.772646Z"
    },
    "papermill": {
     "duration": 0.014859,
     "end_time": "2025-09-17T09:44:47.775156",
     "exception": false,
     "start_time": "2025-09-17T09:44:47.760297",
     "status": "completed"
    },
    "tags": []
   },
   "outputs": [],
   "source": [
    "MODEL_NAME = \"gemini-2.5-flash-lite\"\n",
    "PROMPT = \"Does this patient have a history with lower back problems?\"\n",
    "PATIENT_ID = 1"
   ]
  },
  {
   "cell_type": "code",
   "execution_count": 14,
   "id": "e3d32d2b",
   "metadata": {
    "execution": {
     "iopub.execute_input": "2025-09-17T09:44:47.791114Z",
     "iopub.status.busy": "2025-09-17T09:44:47.790758Z",
     "iopub.status.idle": "2025-09-17T09:44:52.077766Z",
     "shell.execute_reply": "2025-09-17T09:44:52.076667Z"
    },
    "papermill": {
     "duration": 4.297357,
     "end_time": "2025-09-17T09:44:52.079625",
     "exception": false,
     "start_time": "2025-09-17T09:44:47.782268",
     "status": "completed"
    },
    "tags": []
   },
   "outputs": [
    {
     "name": "stdout",
     "output_type": "stream",
     "text": [
      "GenAI client initialized successfully with Kaggle credentials.\n",
      "Sending prompt to the model...\n",
      "\n",
      "Model response contains a function call:\n",
      "id=None args={'query': 'lower back problems', 'patient_id': '1', 'start_date': '1970-01-01', 'end_date': '2025-09-17'} name='perform_similarity_search_bigquery_ml'\n",
      "Performing similarity search using BigQuery ML for query: 'lower back problems'\n",
      "\n",
      "--- Top Matching Concepts for query: 'lower back problems' ---\n",
      "\n",
      "Rank 1: Score = 0.6895\n",
      "  Concept: Condition Name: Low back pain\n",
      "Ancestor Name: Pain\n",
      "  Details: **Subjective:**\n",
      "Patient reports a chief complaint of low back pain, which began approximately 3 days ago. The pain is described as a dull ache, rated 6/10 at its worst, and localized to the lumbar region with occasional radiation into the left buttock. Patient states the pain is exacerbated by prolonged sitting and bending forward, and is partially relieved by lying down. No reports of numbness, tingling, or weakness in the lower extremities. Denies any recent trauma or injury. Reports difficulty sleeping due to discomfort.\n",
      "\n",
      "**Objective:**\n",
      "Physical examination reveals a well-appearing individual in no acute distress. Lumbar spine shows mild tenderness to palpation over the paraspinal muscles bilaterally, with greater tenderness noted on the left. Range of motion of the lumbar spine is limited in flexion (to approximately 45 degrees) and extension (to approximately 10 degrees) due to pain. Straight leg raise test is negative bilaterally. Neurological examination of the lower extremities is grossly intact, with intact sensation to light touch, 5/5 motor strength in bilateral hip flexion, knee extension, ankle dorsiflexion, and plantarflexion. Deep tendon reflexes are 2+ and symmetric at the patellar and Achilles tendons. No edema or erythema noted in the lower extremities.\n",
      "\n",
      "**Assessment:**\n",
      "The patient's presentation is consistent with acute mechanical low back pain, likely secondary to muscle strain or ligamentous sprain. The absence of neurological deficits, red flag symptoms (e.g., fever, weight loss, bowel/bladder dysfunction), and history of trauma makes serious underlying pathology less likely at this time. Differential diagnoses include lumbar muscle strain, lumbar ligamentous sprain, and early degenerative disc disease.\n",
      "\n",
      "**Plan:**\n",
      "1.  **Pain Management:** Recommend over-the-counter analgesics such as acetaminophen or ibuprofen as needed for pain relief, taken with food.\n",
      "2.  **Activity Modification:** Advise patient to avoid activities that exacerbate pain, such as prolonged sitting, heavy lifting, and forceful bending. Encourage gentle movement and stretching as tolerated.\n",
      "3.  **Physical Therapy:** Refer patient for outpatient physical therapy to focus on core strengthening, stretching, and education on proper body mechanics.\n",
      "4.  **Follow-up:** Schedule a follow-up appointment in 2 weeks to reassess symptoms and response to treatment. If symptoms do not improve or worsen, further investigation may be warranted.\n",
      "5.  **Patient Education:** Educate patient on the expected course of acute low back pain and strategies for self-management. Advise to return to clinic immediately if any new neurological symptoms develop (e.g., numbness, weakness, bowel/bladder changes).\n",
      "------------\n",
      "\n",
      "Rank 2: Score = 0.6879\n",
      "  Concept: Condition Name: Low back pain\n",
      "Ancestor Name: Finding of body region\n",
      "  Details: **Subjective:**\n",
      "Patient reports a chief complaint of persistent low back pain, described as a dull, aching sensation localized to the lumbar region. Pain intensity is reported as 5/10 at rest, increasing to 7/10 with prolonged sitting or standing, and 8/10 with bending or lifting. Patient denies radiation of pain into the lower extremities, numbness, or tingling. Patient reports occasional stiffness in the morning, which improves with movement. No history of recent trauma or injury. Patient states pain has been present for approximately 3 weeks and has gradually worsened. Over-the-counter analgesics provide minimal relief.\n",
      "\n",
      "**Objective:**\n",
      "Physical examination reveals a well-appearing patient in no acute distress. Lumbar spine demonstrates normal lordotic curvature. Palpation of the paraspinal muscles reveals mild tenderness bilaterally at the L4-L5 level. Range of motion is limited in flexion to 60 degrees due to pain, with extension and lateral bending within normal limits but eliciting mild discomfort. Straight leg raise test is negative bilaterally. Neurological examination of the lower extremities is grossly intact, with intact sensation to light touch, 5/5 motor strength in all muscle groups, and 2+ deep tendon reflexes. No edema or erythema noted.\n",
      "\n",
      "**Assessment:**\n",
      "Low back pain, likely mechanical in nature, secondary to lumbar strain or myofascial pain syndrome. Differential diagnoses include lumbar disc herniation (less likely given absence of radicular symptoms), facet joint arthropathy, or spondylolisthesis. Further investigation may be warranted if symptoms persist or worsen.\n",
      "\n",
      "**Plan:**\n",
      "1. **Pain Management:** Recommend continued use of over-the-counter analgesics (e.g., acetaminophen or ibuprofen) as needed for pain relief. Advise on proper body mechanics for lifting and bending.\n",
      "2. **Activity Modification:** Encourage continued gentle activity and stretching. Avoid prolonged sitting or standing without breaks.\n",
      "3. **Physical Therapy:** Refer patient to physical therapy for a course of 6-8 weeks, focusing on core strengthening exercises, stretching, and manual therapy techniques.\n",
      "4. **Follow-up:** Schedule a follow-up appointment in 2-4 weeks to assess response to treatment.\n",
      "5. **Further Testing:** If symptoms do not improve with conservative management, consider lumbar spine X-rays or MRI to further evaluate for structural abnormalities.\n",
      "------------\n",
      "\n",
      "Rank 3: Score = 0.6873\n",
      "  Concept: Condition Name: Low back pain\n",
      "Ancestor Name: Pain finding at anatomical site\n",
      "  Details: **Subjective:**\n",
      "Patient reports persistent, dull, achy pain localized to the lower lumbar region, specifically described as radiating into the bilateral gluteal areas. Pain onset was gradual, with no specific inciting incident reported. Patient quantifies pain as 6/10 at its worst, improving to 3/10 with rest. Pain is exacerbated by prolonged sitting, standing, and bending forward. Patient denies any numbness, tingling, or weakness in the lower extremities. Bowel and bladder function are reported as normal. Patient has attempted over-the-counter ibuprofen with minimal relief.\n",
      "\n",
      "**Objective:**\n",
      "Physical examination reveals a well-appearing patient in no acute distress. Lumbar spine range of motion is limited in flexion (to 50 degrees) and extension (to 10 degrees) due to pain. Lateral bending is mildly restricted bilaterally. Straight leg raise is negative bilaterally to 70 degrees. Palpation of the lumbar paraspinal muscles reveals moderate tenderness and guarding. No step-offs or deformities noted in the lumbar spine. Neurological examination of the lower extremities is grossly intact, with 5/5 motor strength in bilateral hip flexion, knee extension, ankle dorsiflexion, and plantarflexion. Sensation is intact to light touch in all dermatomes. Deep tendon reflexes are 2+ and symmetric at the patellar and Achilles tendons.\n",
      "\n",
      "**Assessment:**\n",
      "1.  **Low back pain, likely mechanical in origin:** The patient's symptoms and physical examination findings are consistent with a musculoskeletal etiology. The absence of radicular symptoms, neurological deficits, or red flag symptoms makes serious underlying pathology less likely at this time.\n",
      "2.  **Possible lumbar muscle strain/sprain:** The tenderness and guarding in the paraspinal muscles, coupled with pain exacerbated by movement, suggest a possible strain or sprain of the lumbar musculature.\n",
      "3.  **Differential considerations include:** Degenerative disc disease, facet joint arthropathy, or myofascial pain syndrome.\n",
      "\n",
      "**Plan:**\n",
      "1.  **Conservative Management:**\n",
      "    *   Continue activity modification, avoiding aggravating movements.\n",
      "    *   Recommend application of heat or ice to the affected area for 15-20 minutes several times daily.\n",
      "    *   Prescribe a course of scheduled NSAIDs (e.g., naproxen 500 mg BID) for pain and inflammation, with consideration for gastroprotection if indicated.\n",
      "    *   Initiate physical therapy referral for a structured program including stretching, strengthening exercises for core and back muscles, and education on proper body mechanics.\n",
      "2.  **Patient Education:**\n",
      "    *   Educate patient on the likely benign nature of their pain and the expected benefits of conservative treatment.\n",
      "    *   Discuss strategies for pain management and prevention of recurrence.\n",
      "3.  **Follow-up:**\n",
      "    *   Schedule follow-up appointment in 2-4 weeks to assess response to treatment.\n",
      "4.  **Further Testing:**\n",
      "    *   Consider lumbar spine X-rays if symptoms do not improve with conservative management or if red flag symptoms develop. MRI of the lumbar spine may be considered if neurological deficits emerge or if persistent, severe pain is unresponsive to adequate conservative therapy.\n",
      "------------\n"
     ]
    }
   ],
   "source": [
    "import time\n",
    "import json\n",
    "from google import genai\n",
    "from google.genai.types import (\n",
    "    FunctionDeclaration,\n",
    "    GenerateContentConfig,\n",
    "    Tool,\n",
    ")\n",
    "\n",
    "from google.cloud import bigquery\n",
    "import time\n",
    "\n",
    "from kaggle_gcp import KaggleKernelCredentials\n",
    "\n",
    "try:\n",
    "    # Get the credentials object from the Kaggle environment\n",
    "    credentials = KaggleKernelCredentials()\n",
    "\n",
    "    # Pass the credentials object directly to the genai.Client\n",
    "    client = genai.Client(\n",
    "        vertexai=True,\n",
    "        project=PROJECT_ID,\n",
    "        location=\"us-east1\",\n",
    "        credentials=credentials \n",
    "    )\n",
    "    print(\"GenAI client initialized successfully with Kaggle credentials.\")\n",
    "except Exception as e:\n",
    "    print(f\"Failed to initialize client with credentials: {e}\")\n",
    "    raise SystemExit(\"Exiting due to authentication failure.\")\n",
    "\n",
    "def function_calling_agent():\n",
    "    #Define the tool for the model using the FunctionDeclaration and Tool classes.\n",
    "    get_similarity_search = FunctionDeclaration(\n",
    "        name='perform_similarity_search_bigquery_ml',\n",
    "        description='Performs a semantic similarity search on the medical report data to find patient reports that are similar to the question of the medical professional interacting with you.',\n",
    "        \n",
    "        #Function parameters are specified in JSON schema format\n",
    "        parameters={\n",
    "            \"type\": \"OBJECT\",\n",
    "            \"properties\": {\n",
    "                'query': {\"type\": \"STRING\", \"description\": 'The user\\'s search query.'},\n",
    "                'patient_id': {\"type\": \"STRING\", \"description\": 'The ID of the patient.'},\n",
    "                'start_date': {\"type\": \"STRING\", \"description\": 'The start date of the search range in YYYY-MM-DD format. If not given, assume 1970-01-01'},\n",
    "                'end_date': {\"type\": \"STRING\", \"description\": 'The end date of the search range in YYYY-MM-DD format. If not given, assume today'},\n",
    "            },\n",
    "            \"required\": ['query', 'patient_id', 'start_date', 'end_date'],\n",
    "        },\n",
    "    )\n",
    "\n",
    "    #Defining the tool itself to use the function\n",
    "    search_tool = Tool(function_declarations=[get_similarity_search])\n",
    "\n",
    "    #Create a user prompt that would naturally trigger the function call.\n",
    "    final_prompt = PROMPT + f\"\\nPatient ID: {PATIENT_ID}, current date: {time.strftime('%Y-%m-%d')}\" #Adding our other variables to the prompt.\n",
    "    print(\"Sending prompt to the model...\")\n",
    "\n",
    "    #Generating the content now with all of our input. Temperature lets Gemini be a bit 'creative' with its output.\n",
    "    response = client.models.generate_content(\n",
    "        model=MODEL_NAME,\n",
    "        contents=final_prompt,\n",
    "        config=GenerateContentConfig(\n",
    "            tools=[search_tool],\n",
    "            temperature=0.3,\n",
    "        ),\n",
    "    )\n",
    "\n",
    "    #Check the response for a function call and execute it.\n",
    "    if response.function_calls:\n",
    "        print(\"\\nModel response contains a function call:\")\n",
    "        call = response.function_calls[0]\n",
    "        print(call)\n",
    "\n",
    "        #Get the Python functio to call\n",
    "        function_to_call = globals()[call.name]\n",
    "\n",
    "        #Execute the function with the arguments provided by the model.\n",
    "        function_result = function_to_call(**call.args)\n",
    "    else:\n",
    "        print(\"\\nModel did not return a function call.\")\n",
    "        print(f\"Model response: {response.text}\")\n",
    "\n",
    "\n",
    "function_calling_agent()"
   ]
  },
  {
   "cell_type": "markdown",
   "id": "498df412",
   "metadata": {
    "papermill": {
     "duration": 0.007266,
     "end_time": "2025-09-17T09:44:52.094585",
     "exception": false,
     "start_time": "2025-09-17T09:44:52.087319",
     "status": "completed"
    },
    "tags": []
   },
   "source": [
    "As you can (hopefully) see, patient 1 does indeed have a history with back problems like we've seen earlier in our BigQueryML function.\n",
    "Let's try 1 more."
   ]
  },
  {
   "cell_type": "code",
   "execution_count": 15,
   "id": "a9e071d7",
   "metadata": {
    "execution": {
     "iopub.execute_input": "2025-09-17T09:44:52.111186Z",
     "iopub.status.busy": "2025-09-17T09:44:52.110208Z",
     "iopub.status.idle": "2025-09-17T09:44:55.752823Z",
     "shell.execute_reply": "2025-09-17T09:44:55.751792Z"
    },
    "papermill": {
     "duration": 3.652817,
     "end_time": "2025-09-17T09:44:55.754641",
     "exception": false,
     "start_time": "2025-09-17T09:44:52.101824",
     "status": "completed"
    },
    "tags": []
   },
   "outputs": [
    {
     "name": "stdout",
     "output_type": "stream",
     "text": [
      "Sending prompt to the model...\n",
      "\n",
      "Model response contains a function call:\n",
      "id=None args={'query': 'diabetes', 'end_date': '2009-12-31', 'patient_id': '3', 'start_date': '2009-01-01'} name='perform_similarity_search_bigquery_ml'\n",
      "Performing similarity search using BigQuery ML for query: 'diabetes'\n",
      "\n",
      "--- Top Matching Concepts for query: 'diabetes' ---\n",
      "\n",
      "Rank 1: Score = 0.6288\n",
      "  Concept: Condition Name: Type 2 diabetes mellitus\n",
      "Ancestor Name: Disorder of endocrine system\n",
      "  Details: **Subjective:**\n",
      "Patient reports persistent fatigue and increased thirst over the past several weeks. Denies any recent changes in diet or activity level. Reports occasional blurred vision, particularly in the afternoon. No reported numbness or tingling in extremities. Last known blood glucose readings were within normal limits approximately six months ago.\n",
      "\n",
      "**Objective:**\n",
      "Vital Signs: BP 138/86 mmHg, HR 78 bpm, RR 16, Temp 98.6°F (oral).\n",
      "Physical Examination: General appearance is well-nourished. Cardiovascular exam reveals regular rate and rhythm, no murmurs. Respiratory exam is clear to auscultation bilaterally. Neurological exam reveals intact sensation to light touch in bilateral upper and lower extremities. No pedal edema noted.\n",
      "Laboratory Data:\n",
      "- Hemoglobin A1c: 8.2%\n",
      "- Fasting Blood Glucose: 178 mg/dL\n",
      "- Lipid Panel: Total Cholesterol 210 mg/dL, LDL 135 mg/dL, HDL 45 mg/dL, Triglycerides 180 mg/dL\n",
      "- Basic Metabolic Panel: Within normal limits except for glucose.\n",
      "\n",
      "**Assessment:**\n",
      "The patient's presentation of polyuria, polydipsia, fatigue, and occasional blurred vision, coupled with the objective findings of elevated Hemoglobin A1c and fasting blood glucose, is highly consistent with poorly controlled Type 2 Diabetes Mellitus. The elevated lipid panel further indicates a need for comprehensive management of cardiovascular risk factors associated with diabetes. The absence of peripheral neuropathy symptoms at this time is reassuring but warrants continued monitoring. The family history of endocrine disorders increases the patient's predisposition.\n",
      "\n",
      "**Plan:**\n",
      "1. Initiate Metformin 500 mg orally twice daily with meals for glycemic control.\n",
      "2. Counsel patient on lifestyle modifications including a balanced diet low in refined carbohydrates and saturated fats, and regular physical activity (aiming for 150 minutes of moderate-intensity aerobic exercise per week).\n",
      "3. Refer patient to a registered dietitian for personalized meal planning and diabetes education.\n",
      "4. Prescribe Atorvastatin 20 mg orally once daily for hyperlipidemia and cardiovascular risk reduction.\n",
      "5. Schedule follow-up appointment in 4 weeks to assess response to Metformin, review blood glucose logs, and monitor for any adverse effects.\n",
      "6. Order repeat Hemoglobin A1c and fasting blood glucose in 3 months.\n",
      "7. Continue monitoring blood pressure and counsel on adherence to lifestyle modifications to manage hypertension.\n",
      "8. Educate patient on signs and symptoms of hypoglycemia and hyperglycemia, and when to seek medical attention.\n",
      "------------\n",
      "\n",
      "Rank 2: Score = 0.6192\n",
      "  Concept: Condition Name: Type 2 diabetes mellitus\n",
      "Ancestor Name: Disorder of glucose metabolism\n",
      "  Details: **Subjective:**\n",
      "Patient reports persistent fatigue and increased thirst over the past several weeks. They also note more frequent urination, particularly at night. Patient denies any recent changes in diet or exercise habits. They express concern about their energy levels and ability to maintain daily activities.\n",
      "\n",
      "**Objective:**\n",
      "Vital Signs: Blood pressure 138/88 mmHg, heart rate 76 bpm, respiratory rate 16 breaths/min, temperature 98.6°F.\n",
      "Physical Examination: General appearance is well-nourished. Cardiovascular exam reveals regular rate and rhythm, no murmurs. Lungs are clear to auscultation bilaterally. Abdomen is soft, non-tender, and non-distended. Neurological exam is grossly intact. Skin examination reveals no signs of infection or poor perfusion.\n",
      "Laboratory Data: Fasting blood glucose 195 mg/dL. Hemoglobin A1c 8.2%. Lipid panel shows Total Cholesterol 210 mg/dL, LDL 135 mg/dL, HDL 40 mg/dL, Triglycerides 180 mg/dL. Urinalysis is negative for ketones and protein.\n",
      "\n",
      "**Assessment:**\n",
      "The patient presents with symptoms consistent with poorly controlled Type 2 Diabetes Mellitus, as evidenced by elevated fasting blood glucose and Hemoglobin A1c. The elevated blood pressure and lipid profile also indicate the presence of comorbid cardiovascular risk factors. The patient's subjective complaints of fatigue, polydipsia, and polyuria are directly attributable to hyperglycemia. Differential diagnoses are limited given the clear laboratory findings, but include other causes of hyperglycemia which are less likely in this context.\n",
      "\n",
      "**Plan:**\n",
      "1. **Medication Adjustment:** Initiate Metformin 500 mg orally twice daily with meals. Titrate dose as tolerated to achieve target glycemic control.\n",
      "2. **Lifestyle Modifications:** Reinforce importance of dietary changes including reduced intake of refined carbohydrates and sugary beverages. Encourage regular physical activity, aiming for at least 150 minutes of moderate-intensity aerobic exercise per week.\n",
      "3. **Education:** Provide comprehensive diabetes education regarding self-monitoring of blood glucose, medication adherence, and the long-term complications of diabetes.\n",
      "4. **Follow-up:** Schedule follow-up appointment in 4 weeks to assess response to medication, review blood glucose logs, and reinforce lifestyle modifications.\n",
      "5. **Further Testing:** Repeat Hemoglobin A1c in 3 months. Consider referral to a registered dietitian for personalized meal planning. Monitor blood pressure and lipid profile regularly.\n",
      "------------\n",
      "\n",
      "Rank 3: Score = 0.6127\n",
      "  Concept: Condition Name: Type 2 diabetes mellitus\n",
      "Ancestor Name: Finding by site\n",
      "  Details: **Subjective:**\n",
      "Patient reports persistent fatigue, increased thirst, and frequent urination over the past several weeks. They note a subjective decrease in energy levels and occasional blurred vision, particularly during periods of prolonged visual concentration. Patient denies any recent changes in diet or exercise routine. No reported history of chest pain, shortness of breath, or neurological symptoms.\n",
      "\n",
      "**Objective:**\n",
      "Vital Signs: BP 138/86 mmHg, HR 78 bpm, RR 16 bpm, Temp 98.6°F (37.0°C).\n",
      "Physical Examination: General appearance is well-nourished. Cardiovascular exam reveals regular rate and rhythm, no murmurs, rubs, or gallops. Lungs are clear to auscultation bilaterally. Abdomen is soft, non-tender, with normoactive bowel sounds. Neurological exam demonstrates intact cranial nerves, 5/5 motor strength in all extremities, and 2+ deep tendon reflexes bilaterally. Sensation to light touch and pinprick is intact in all dermatomes. Pedal pulses are palpable at 2+. No edema noted in lower extremities.\n",
      "Laboratory Data: Fasting Plasma Glucose (FPG) 178 mg/dL. Hemoglobin A1c (HbA1c) 8.2%. Lipid panel demonstrates Total Cholesterol 210 mg/dL, LDL 135 mg/dL, HDL 45 mg/dL, Triglycerides 180 mg/dL. Renal function tests (BUN, Creatinine) are within normal limits.\n",
      "\n",
      "**Assessment:**\n",
      "The patient presents with symptoms consistent with poorly controlled Type 2 Diabetes Mellitus. The elevated fasting plasma glucose and Hemoglobin A1c confirm hyperglycemia. The lipid panel indicates dyslipidemia, which is a common comorbidity in patients with diabetes and increases cardiovascular risk. Differential diagnoses include:\n",
      "1. Type 2 Diabetes Mellitus (primary diagnosis)\n",
      "2. Prediabetes (less likely given current glucose and A1c levels)\n",
      "3. Other causes of polyuria and polydipsia (e.g., nephrogenic diabetes insipidus, primary polydipsia – less likely given the hyperglycemia)\n",
      "\n",
      "**Plan:**\n",
      "1. **Medication Adjustment:** Initiate or adjust oral hypoglycemic agent (e.g., Metformin) to improve glycemic control. Discuss potential need for additional agents based on HbA1c and patient response.\n",
      "2. **Lifestyle Modifications:** Reinforce the importance of a balanced diet low in refined carbohydrates and saturated fats, and regular physical activity. Refer to a registered dietitian for personalized meal planning.\n",
      "3. **Monitoring:** Instruct patient on self-monitoring of blood glucose (SMBG) and to maintain a log. Schedule follow-up appointment in 4-6 weeks to assess response to treatment and review SMBG logs.\n",
      "4. **Further Testing:** Consider ordering urine microalbumin to screen for early signs of diabetic nephropathy. Repeat lipid panel in 3-6 months to assess response to statin therapy, if initiated.\n",
      "5. **Patient Education:** Provide comprehensive education on diabetes management, including sick day rules, foot care, and the importance of regular eye examinations. Discuss potential long-term complications of diabetes.\n",
      "------------\n"
     ]
    }
   ],
   "source": [
    "PROMPT = \"Did this patient have issues with diabetes through 2009?\"\n",
    "PATIENT_ID = 3\n",
    "\n",
    "function_calling_agent()"
   ]
  },
  {
   "cell_type": "markdown",
   "id": "e9003700",
   "metadata": {
    "papermill": {
     "duration": 0.007977,
     "end_time": "2025-09-17T09:44:55.771402",
     "exception": false,
     "start_time": "2025-09-17T09:44:55.763425",
     "status": "completed"
    },
    "tags": []
   },
   "source": [
    "And 1 final application;"
   ]
  },
  {
   "cell_type": "code",
   "execution_count": 16,
   "id": "2e44a849",
   "metadata": {
    "execution": {
     "iopub.execute_input": "2025-09-17T09:44:55.788068Z",
     "iopub.status.busy": "2025-09-17T09:44:55.787712Z",
     "iopub.status.idle": "2025-09-17T09:44:59.785536Z",
     "shell.execute_reply": "2025-09-17T09:44:59.784419Z"
    },
    "papermill": {
     "duration": 4.007906,
     "end_time": "2025-09-17T09:44:59.787017",
     "exception": false,
     "start_time": "2025-09-17T09:44:55.779111",
     "status": "completed"
    },
    "tags": []
   },
   "outputs": [
    {
     "name": "stdout",
     "output_type": "stream",
     "text": [
      "Sending prompt to the model...\n",
      "\n",
      "Model response contains a function call:\n",
      "id=None args={'query': 'dementia related symptoms', 'patient_id': '4', 'end_date': '2025-09-17', 'start_date': '2009-09-01'} name='perform_similarity_search_bigquery_ml'\n",
      "Performing similarity search using BigQuery ML for query: 'dementia related symptoms'\n",
      "No matching concepts found for the given criteria.\n"
     ]
    }
   ],
   "source": [
    "PROMPT = \"Have there been dementia related symptoms since september 2009?\"\n",
    "PATIENT_ID = 4\n",
    "\n",
    "function_calling_agent()"
   ]
  },
  {
   "cell_type": "markdown",
   "id": "b085a350",
   "metadata": {
    "papermill": {
     "duration": 0.007487,
     "end_time": "2025-09-17T09:44:59.802565",
     "exception": false,
     "start_time": "2025-09-17T09:44:59.795078",
     "status": "completed"
    },
    "tags": []
   },
   "source": [
    "As you can see, no results. The similarity search tresholds filters them - in reality, this patient has only suffered from spinal issues and diabetes in this window.\n"
   ]
  },
  {
   "cell_type": "markdown",
   "id": "4e00deab",
   "metadata": {
    "papermill": {
     "duration": 0.007718,
     "end_time": "2025-09-17T09:44:59.818159",
     "exception": false,
     "start_time": "2025-09-17T09:44:59.810441",
     "status": "completed"
    },
    "tags": []
   },
   "source": [
    "If we were to say, deploy this to a Cloud Run (or Google's Agent Engine), we would now have a REST API Endpoint that can be called by any application to actually Vector Search through patient data!"
   ]
  },
  {
   "cell_type": "markdown",
   "id": "442ef53a",
   "metadata": {
    "papermill": {
     "duration": 0.007571,
     "end_time": "2025-09-17T09:44:59.833477",
     "exception": false,
     "start_time": "2025-09-17T09:44:59.825906",
     "status": "completed"
    },
    "tags": []
   },
   "source": [
    "# Conclusions\n",
    "\n",
    "Hopefully I've been able to showcase the power of BigQueryML here. I was impressed that all of this functionality works within SQL; I was worried that this would have to be a video showcase of me going through bigquery and setting up all these things by hand (like for example, creating the Generation and Embedding Models), but luckily this was all possible with just BigQuery calls inside Kaggle. The speed of the BigQueryML calls also surprised me, especially the similarity search.\n",
    "\n",
    "I'm a big fan of embeddings in the medical sphere. I've worked in healthcare-related IT for a few years and the amount of administration and bulk that these nurses and other professionals need to go through is absurd. Hopefully we can, in the near future, assist them in this proces. The quality of our models will keep improving, and I think this can be a reality soon.\n",
    "\n",
    "The lack of consistant language use inbetween organisations and programs can cause extra bloat in this administrative process. Embeddings and Classifications within GCP can realy alleviate these issues.\n",
    "\n",
    "If I were to do this again, I would set up something more robust for the agent using Google's Agent Development Kit (ADK). It's elegant use of sub-agents would let you run a host of queries all within the same project while still having a clean project setup.\n",
    "On top of that, I would write something to reduce the verboseness of the SOAP reports - they're quite wordy, and it troubles the embeddings somewhat. "
   ]
  }
 ],
 "metadata": {
  "kaggle": {
   "accelerator": "none",
   "dataSources": [],
   "dockerImageVersionId": 31089,
   "isGpuEnabled": false,
   "isInternetEnabled": true,
   "language": "python",
   "sourceType": "notebook"
  },
  "kernelspec": {
   "display_name": "Python 3",
   "language": "python",
   "name": "python3"
  },
  "language_info": {
   "codemirror_mode": {
    "name": "ipython",
    "version": 3
   },
   "file_extension": ".py",
   "mimetype": "text/x-python",
   "name": "python",
   "nbconvert_exporter": "python",
   "pygments_lexer": "ipython3",
   "version": "3.11.13"
  },
  "papermill": {
   "default_parameters": {},
   "duration": 214.619653,
   "end_time": "2025-09-17T09:45:02.894894",
   "environment_variables": {},
   "exception": null,
   "input_path": "__notebook__.ipynb",
   "output_path": "__notebook__.ipynb",
   "parameters": {},
   "start_time": "2025-09-17T09:41:28.275241",
   "version": "2.6.0"
  }
 },
 "nbformat": 4,
 "nbformat_minor": 5
}
