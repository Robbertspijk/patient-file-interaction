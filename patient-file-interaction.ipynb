{
 "cells": [
  {
   "cell_type": "markdown",
   "id": "780e19f8",
   "metadata": {
    "papermill": {
     "duration": 0.006629,
     "end_time": "2025-09-18T14:53:10.801578",
     "exception": false,
     "start_time": "2025-09-18T14:53:10.794949",
     "status": "completed"
    },
    "tags": []
   },
   "source": [
    "# Vector Search Interaction with Patient Files\n",
    "\n",
    "Patient records can be tricky, and navigating them can be tricky in healthcare. Nevertheless, it is crucial to be able to do so.\n",
    "\n",
    "In theory, this is done with meticulous standards and making sure there is very clear terminology in symptoms and observations. In practice, this is not always the case. For doctors seeing a patient that has a lengthy record for the first time it can be hard to decipher the relevant parts of the file. Add inconsistent word use and suddently standard search functions become very difficult to use.\n",
    "\n",
    "Using Vector Search and Embeddings, we can hope to fix this issue. By embedding the semantic meaning of a word, we no longer need to rely on exact word use, and other relevant reports can come through the search to enrich the search result.\n",
    "\n",
    "To showcase this use case, I have made an AI agent that lets you filter for relevant parts of patient files from a public dataset. We will ask it things like \"Has this patient shown signs of dementia before?\" and be able to get results back of reports that might be relevant. Should, for example, there be an increase of dementia-related reports over the past 6 months or so, a medical expert might want to act on that.\n",
    "\n",
    "As a technical challenge, I wanted to do this entire process with the BigQuery Python library."
   ]
  },
  {
   "cell_type": "markdown",
   "id": "496117b1",
   "metadata": {
    "papermill": {
     "duration": 0.005167,
     "end_time": "2025-09-18T14:53:10.812511",
     "exception": false,
     "start_time": "2025-09-18T14:53:10.807344",
     "status": "completed"
    },
    "tags": []
   },
   "source": [
    "# Data setup\n",
    "Using a public dataset of fake patient data, we can extract patient reports from 20 ficticious patients.\n",
    "The setup of the dataset is a bit limited, but we will further enrich that later. \n",
    "\n",
    "People to process is set to 10 by default, but could in theory be bumped up if you're prepared to foot the bill.\n",
    "Similarly the reports per patient is limited; there are thousands of patients in this dataset each with hundreds of reports!"
   ]
  },
  {
   "cell_type": "code",
   "execution_count": 1,
   "id": "156d28cd",
   "metadata": {
    "execution": {
     "iopub.execute_input": "2025-09-18T14:53:10.825401Z",
     "iopub.status.busy": "2025-09-18T14:53:10.824970Z",
     "iopub.status.idle": "2025-09-18T14:53:16.276797Z",
     "shell.execute_reply": "2025-09-18T14:53:16.275676Z"
    },
    "papermill": {
     "duration": 5.460826,
     "end_time": "2025-09-18T14:53:16.278811",
     "exception": false,
     "start_time": "2025-09-18T14:53:10.817985",
     "status": "completed"
    },
    "tags": []
   },
   "outputs": [
    {
     "name": "stdout",
     "output_type": "stream",
     "text": [
      "\u001b[2K   \u001b[90m━━━━━━━━━━━━━━━━━━━━━━━━━━━━━━━━━━━━━━━━\u001b[0m \u001b[32m293.6/293.6 kB\u001b[0m \u001b[31m10.0 MB/s\u001b[0m eta \u001b[36m0:00:00\u001b[0m\r\n",
      "\u001b[?25h\u001b[31mERROR: pip's dependency resolver does not currently take into account all the packages that are installed. This behaviour is the source of the following dependency conflicts.\r\n",
      "bigframes 2.8.0 requires google-cloud-bigquery[bqstorage,pandas]>=3.31.0, but you have google-cloud-bigquery 3.25.0 which is incompatible.\r\n",
      "bigframes 2.8.0 requires rich<14,>=12.4.4, but you have rich 14.0.0 which is incompatible.\u001b[0m\u001b[31m\r\n",
      "\u001b[0m"
     ]
    }
   ],
   "source": [
    "!pip install --quiet google-cloud-bigquery-storage #Reduces future errors and increases readability"
   ]
  },
  {
   "cell_type": "code",
   "execution_count": 2,
   "id": "41c929ff",
   "metadata": {
    "execution": {
     "iopub.execute_input": "2025-09-18T14:53:16.293022Z",
     "iopub.status.busy": "2025-09-18T14:53:16.292177Z",
     "iopub.status.idle": "2025-09-18T14:53:16.474831Z",
     "shell.execute_reply": "2025-09-18T14:53:16.473822Z"
    },
    "papermill": {
     "duration": 0.191562,
     "end_time": "2025-09-18T14:53:16.476443",
     "exception": false,
     "start_time": "2025-09-18T14:53:16.284881",
     "status": "completed"
    },
    "tags": []
   },
   "outputs": [
    {
     "name": "stdout",
     "output_type": "stream",
     "text": [
      "Project ID and Database settings have been succesfully set.\n"
     ]
    }
   ],
   "source": [
    "\n",
    "from kaggle_secrets import UserSecretsClient\n",
    "\n",
    "user_secrets = UserSecretsClient()\n",
    "PROJECT_ID = user_secrets.get_secret(\"GCP_PROJECT_ID\")\n",
    "DATASET_ID = 'concept_data'\n",
    "DATASET_TABLE = 'concept_content'\n",
    "DATASET_LOCATION = 'US' \n",
    "\n",
    "PATIENTS_TO_PROCESS = 10 #How many patients to grab from the public dataset\n",
    "REPORTS_PER_PATIENT = 50 #How many reports do you want to generate and embed per person?\n",
    "\n",
    "print('Project ID and Database settings have been succesfully set.')"
   ]
  },
  {
   "cell_type": "markdown",
   "id": "8594137f",
   "metadata": {
    "papermill": {
     "duration": 0.005444,
     "end_time": "2025-09-18T14:53:16.487892",
     "exception": false,
     "start_time": "2025-09-18T14:53:16.482448",
     "status": "completed"
    },
    "tags": []
   },
   "source": [
    "First, we generate an empty BigQuery Dataset to later create our tables and models into.\n",
    "I default to setting the location to US, as newer models tend to be available there slightly earlier than in my area (Europe)."
   ]
  },
  {
   "cell_type": "code",
   "execution_count": 3,
   "id": "eb59dad5",
   "metadata": {
    "execution": {
     "iopub.execute_input": "2025-09-18T14:53:16.500851Z",
     "iopub.status.busy": "2025-09-18T14:53:16.500464Z",
     "iopub.status.idle": "2025-09-18T14:53:37.362300Z",
     "shell.execute_reply": "2025-09-18T14:53:37.361318Z"
    },
    "papermill": {
     "duration": 20.87011,
     "end_time": "2025-09-18T14:53:37.363789",
     "exception": false,
     "start_time": "2025-09-18T14:53:16.493679",
     "status": "completed"
    },
    "tags": []
   },
   "outputs": [
    {
     "name": "stdout",
     "output_type": "stream",
     "text": [
      "Dataset 'concept_data' created successfully in US\n"
     ]
    }
   ],
   "source": [
    "from google.cloud import bigquery\n",
    "from google.api_core import exceptions as api_exceptions\n",
    "\n",
    "#BigQuery Client\n",
    "client = bigquery.Client(project=PROJECT_ID)\n",
    "\n",
    "try:\n",
    "    #Basic Dataset params\n",
    "    dataset_ref = client.dataset(DATASET_ID)\n",
    "    dataset = bigquery.Dataset(dataset_ref)\n",
    "    dataset.location = DATASET_LOCATION\n",
    "    \n",
    "    #Send the dataset to the API for creation.\n",
    "    dataset = client.create_dataset(dataset)\n",
    "    print(f\"Dataset '{DATASET_ID}' created successfully in {DATASET_LOCATION}\")\n",
    "except api_exceptions.Conflict:\n",
    "    #Handle the case where the dataset already exists.\n",
    "    print(f\"Dataset '{DATASET_ID}' already exists. Skipping creation.\")\n",
    "except Exception as e:\n",
    "    #Handle other potential API errors.\n",
    "    print(f\"An error occurred: {e}\")"
   ]
  },
  {
   "cell_type": "markdown",
   "id": "01ca4312",
   "metadata": {
    "papermill": {
     "duration": 0.006148,
     "end_time": "2025-09-18T14:53:37.375771",
     "exception": false,
     "start_time": "2025-09-18T14:53:37.369623",
     "status": "completed"
    },
    "tags": []
   },
   "source": [
    "Now that the empty dataset has been generated, we can put our own data into it.\n",
    "\n",
    "This query takes the public dataset with patient reports, and extracts people and their associated reports.\n",
    "The dataset has a lot of tables, most of which frankly lacked the context for me to understand, but I grabbed the \"concepts\" as well as their start and end-date.\n",
    "This gives us the following setup;\n",
    "- The patient (person)'s id\n",
    "- The ID of the condition, and its ancestor (type of condition)\n",
    "- The start and end date of the condition\n",
    "- The content of the condition and its ancestor, combined into 1 string\n",
    "- 2 empty columns, to be used later\n",
    "- A UUID using BigQuery's FARM_FINGERPRINT function"
   ]
  },
  {
   "cell_type": "code",
   "execution_count": 4,
   "id": "d0f4c8af",
   "metadata": {
    "execution": {
     "iopub.execute_input": "2025-09-18T14:53:37.388991Z",
     "iopub.status.busy": "2025-09-18T14:53:37.388123Z",
     "iopub.status.idle": "2025-09-18T14:53:49.953283Z",
     "shell.execute_reply": "2025-09-18T14:53:49.952095Z"
    },
    "papermill": {
     "duration": 12.573888,
     "end_time": "2025-09-18T14:53:49.955424",
     "exception": false,
     "start_time": "2025-09-18T14:53:37.381536",
     "status": "completed"
    },
    "tags": []
   },
   "outputs": [
    {
     "name": "stdout",
     "output_type": "stream",
     "text": [
      "Executing BigQuery query to create/replace table 'concept_content'...\n",
      "Table 'concept_content' created/replaced successfully.\n",
      "\n",
      "Fetching first 5 rows from the new table for verification...\n",
      "First 5 rows of `{DATASET_TABLE}`:\n",
      "              unique_id  person_id  condition_concept_id  ancestor_concept_id  \\\n",
      "0  -4538431163366809327          8                437851              4081007   \n",
      "1  -1279648889780597621          8                437851              4303380   \n",
      "2   6505077824634278573          8                437851              4102183   \n",
      "3   6329260021517612951          8                437851               441840   \n",
      "4   8015796092246835506          8                437851              4274025   \n",
      "\n",
      "  condition_start_date condition_end_date  \\\n",
      "0           2008-02-16         2008-02-16   \n",
      "1           2008-02-16         2008-02-16   \n",
      "2           2008-02-16         2008-02-16   \n",
      "3           2008-02-16         2008-02-16   \n",
      "4           2008-02-16         2008-02-16   \n",
      "\n",
      "                                     concept_details generated_report  \\\n",
      "0  Condition Name: Open angle with borderline int...             None   \n",
      "1  Condition Name: Open angle with borderline int...             None   \n",
      "2  Condition Name: Open angle with borderline int...             None   \n",
      "3  Condition Name: Open angle with borderline int...             None   \n",
      "4  Condition Name: Open angle with borderline int...             None   \n",
      "\n",
      "  report_embeddings  \n",
      "0                []  \n",
      "1                []  \n",
      "2                []  \n",
      "3                []  \n",
      "4                []  \n"
     ]
    }
   ],
   "source": [
    "#Import necessary libraries for BigQuery and data handling\n",
    "from google.cloud import bigquery\n",
    "import pandas as pd\n",
    "\n",
    "#BigQuery Client\n",
    "client = bigquery.Client(project=PROJECT_ID)\n",
    "\n",
    "#Query setup, joining tables together from the public dataset to create our own. Lacks a unique identifier, so we use FARM_FINGERPRINT to make one.\n",
    "# This query will create or replace the 'DATASET_TABLE' table in your dataset.\n",
    "query = f\"\"\"\n",
    "CREATE OR REPLACE TABLE `{PROJECT_ID}.{DATASET_ID}.{DATASET_TABLE}` AS\n",
    "WITH RankedConditions AS (\n",
    "    SELECT\n",
    "        t1.person_id,\n",
    "        t1.condition_concept_id,\n",
    "        t3.ancestor_concept_id,\n",
    "        ANY_VALUE(t1.condition_start_date) AS condition_start_date,\n",
    "        ANY_VALUE(t1.condition_end_date) AS condition_end_date,\n",
    "        FORMAT('Condition Name: %s\\\\nAncestor Name: %s',\n",
    "               ANY_VALUE(t2.concept_name),\n",
    "               ANY_VALUE(t4.concept_name)) AS concept_details,\n",
    "        CAST(NULL AS STRING) AS generated_report,\n",
    "        CAST(NULL AS ARRAY<FLOAT64>) AS report_embeddings,\n",
    "        ROW_NUMBER() OVER(PARTITION BY t1.person_id ORDER BY ANY_VALUE(t1.condition_start_date)) AS row_num\n",
    "    FROM\n",
    "        `bigquery-public-data.cms_synthetic_patient_data_omop.condition_occurrence` AS t1\n",
    "    JOIN\n",
    "        (SELECT DISTINCT person_id FROM `bigquery-public-data.cms_synthetic_patient_data_omop.person` ORDER BY person_id LIMIT {PATIENTS_TO_PROCESS}) AS limited_persons\n",
    "        ON t1.person_id = limited_persons.person_id\n",
    "    JOIN\n",
    "        `bigquery-public-data.cms_synthetic_patient_data_omop.concept` AS t2\n",
    "        ON t1.condition_concept_id = t2.concept_id\n",
    "    JOIN\n",
    "        `bigquery-public-data.cms_synthetic_patient_data_omop.concept_ancestor` AS t3\n",
    "        ON t1.condition_concept_id = t3.descendant_concept_id\n",
    "    JOIN\n",
    "        `bigquery-public-data.cms_synthetic_patient_data_omop.concept` AS t4\n",
    "        ON t3.ancestor_concept_id = t4.concept_id\n",
    "    GROUP BY\n",
    "        t1.person_id,\n",
    "        t1.condition_concept_id,\n",
    "        t3.ancestor_concept_id\n",
    ")\n",
    "SELECT\n",
    "    FARM_FINGERPRINT(TO_JSON_STRING(STRUCT(person_id, condition_concept_id, ancestor_concept_id))) AS unique_id,\n",
    "    person_id,\n",
    "    condition_concept_id,\n",
    "    ancestor_concept_id,\n",
    "    condition_start_date,\n",
    "    condition_end_date,\n",
    "    concept_details,\n",
    "    generated_report,\n",
    "    report_embeddings\n",
    "FROM\n",
    "    RankedConditions\n",
    "WHERE\n",
    "    row_num <= {REPORTS_PER_PATIENT};\n",
    "\"\"\"\n",
    "\n",
    "print(f\"Executing BigQuery query to create/replace table '{DATASET_TABLE}'...\")\n",
    "# Run the query\n",
    "query_job = client.query(query)\n",
    "# Wait for the query to complete\n",
    "query_job.result()\n",
    "print(f\"Table '{DATASET_TABLE}' created/replaced successfully.\")\n",
    "\n",
    "#Querying the resulting table to show the data we are working with.\n",
    "print(\"\\nFetching first 5 rows from the new table for verification...\")\n",
    "query_results_sql = f\"\"\"\n",
    "SELECT *\n",
    "FROM `{PROJECT_ID}.{DATASET_ID}.{DATASET_TABLE}`\n",
    "LIMIT 5;\n",
    "\"\"\"\n",
    "df_results = client.query(query_results_sql).to_dataframe()\n",
    "\n",
    "print(\"First 5 rows of `{DATASET_TABLE}`:\")\n",
    "print(df_results)"
   ]
  },
  {
   "cell_type": "markdown",
   "id": "48de3d93",
   "metadata": {
    "papermill": {
     "duration": 0.009383,
     "end_time": "2025-09-18T14:53:49.974902",
     "exception": false,
     "start_time": "2025-09-18T14:53:49.965519",
     "status": "completed"
    },
    "tags": []
   },
   "source": [
    "#### Generating fully fletched SOAP reports\n",
    "Initially I worked with this data, but my results were frankly quite middling.\n",
    "This is because, as you can see in these first 5 rows; the Condition name and Ancestor Name combine to about... 4 words?\n",
    "It's hard to embed something meaningful out of this, when it is so tiny and the terms used are quite generic.\n",
    "\n",
    "To fix this, we will use these keywords to generate our own ficticious patient reports.\n",
    "For this, I picked SOAP standard reporting - A standard medical protocol that gives incredibly consistent output.\n",
    "The generated SOAP reports are quite dense and contain a high standard of information, easily beating out the condition/ancestor combination I used earlier.\n",
    "Later, we will use these SOAP reports to create a proper vector search embedding.\n",
    "\n",
    "To do this, we will need to to create the model that will generate these reports for us.\n",
    "Luckily, you can do that with a BigQuery query!"
   ]
  },
  {
   "cell_type": "code",
   "execution_count": 5,
   "id": "291d7e90",
   "metadata": {
    "execution": {
     "iopub.execute_input": "2025-09-18T14:53:49.991608Z",
     "iopub.status.busy": "2025-09-18T14:53:49.991143Z",
     "iopub.status.idle": "2025-09-18T14:53:49.996706Z",
     "shell.execute_reply": "2025-09-18T14:53:49.995522Z"
    },
    "papermill": {
     "duration": 0.016229,
     "end_time": "2025-09-18T14:53:49.998215",
     "exception": false,
     "start_time": "2025-09-18T14:53:49.981986",
     "status": "completed"
    },
    "tags": []
   },
   "outputs": [],
   "source": [
    "GENERATION_MODEL_NAME = \"report_generation\" #Set this to what you want the ML model to be named.\n",
    "GENERATION_MODEL_TYPE = \"gemini-2.5-flash-lite\" #What model do you want to use."
   ]
  },
  {
   "cell_type": "code",
   "execution_count": 6,
   "id": "11327832",
   "metadata": {
    "execution": {
     "iopub.execute_input": "2025-09-18T14:53:50.016149Z",
     "iopub.status.busy": "2025-09-18T14:53:50.015826Z",
     "iopub.status.idle": "2025-09-18T14:53:54.610668Z",
     "shell.execute_reply": "2025-09-18T14:53:54.609410Z"
    },
    "papermill": {
     "duration": 4.607256,
     "end_time": "2025-09-18T14:53:54.612211",
     "exception": false,
     "start_time": "2025-09-18T14:53:50.004955",
     "status": "completed"
    },
    "tags": []
   },
   "outputs": [
    {
     "name": "stdout",
     "output_type": "stream",
     "text": [
      "Model created successfully.\n"
     ]
    }
   ],
   "source": [
    "full_model_name = f\"`{PROJECT_ID}.{DATASET_ID}.{GENERATION_MODEL_NAME}`\"\n",
    "\n",
    "model_generation_query = f\"\"\"\n",
    "CREATE OR REPLACE MODEL {full_model_name}\n",
    "REMOTE WITH CONNECTION DEFAULT\n",
    "OPTIONS(ENDPOINT = '{GENERATION_MODEL_TYPE}')\n",
    "\"\"\"\n",
    "\n",
    "try:\n",
    "    # Execute the query\n",
    "    job = client.query(model_generation_query)\n",
    "    job.result()  # Wait for the job to complete\n",
    "    print(\"Model created successfully.\")\n",
    "except Exception as e:\n",
    "    print(f\"An error occurred: {e}\")"
   ]
  },
  {
   "cell_type": "markdown",
   "id": "1425a7a8",
   "metadata": {
    "papermill": {
     "duration": 0.005778,
     "end_time": "2025-09-18T14:53:54.623916",
     "exception": false,
     "start_time": "2025-09-18T14:53:54.618138",
     "status": "completed"
    },
    "tags": []
   },
   "source": [
    "Now that we have a model, we can use it to generate text with ML.GENERATE_TEXT.\n",
    "Using BigQueryML, we take the condition and ancestor from the data and add it to the CONCAT.\n",
    "\n",
    "The prompt is inside the CONCAT statement as you can see; it explains the setup of a SOAP report, gives the concept_details, and then Gemini generates them.\n",
    "We then update our existing database's generated_report column with the output.\n",
    "\n",
    "With the default settings of 10 people and 50 reports per, there should be 500 reports to generate split into batches of 100."
   ]
  },
  {
   "cell_type": "code",
   "execution_count": 7,
   "id": "08598948",
   "metadata": {
    "execution": {
     "iopub.execute_input": "2025-09-18T14:53:54.637556Z",
     "iopub.status.busy": "2025-09-18T14:53:54.637191Z",
     "iopub.status.idle": "2025-09-18T14:55:35.868355Z",
     "shell.execute_reply": "2025-09-18T14:55:35.867058Z"
    },
    "papermill": {
     "duration": 101.240825,
     "end_time": "2025-09-18T14:55:35.870794",
     "exception": false,
     "start_time": "2025-09-18T14:53:54.629969",
     "status": "completed"
    },
    "tags": []
   },
   "outputs": [
    {
     "name": "stdout",
     "output_type": "stream",
     "text": [
      "Executing update query using BigQuery ML model 'report_generation'...\n",
      "\n",
      "Update completed. 100 reports generated and saved.\n",
      "\n",
      "Update completed. 100 reports generated and saved.\n",
      "\n",
      "Update completed. 100 reports generated and saved.\n",
      "\n",
      "Update completed. 100 reports generated and saved.\n",
      "\n",
      "Update completed. 100 reports generated and saved.\n",
      "\n",
      "Update completed. 0 reports generated and saved.\n",
      "All records have been updated. The process is complete.\n",
      "\n",
      "Fetching first 5 rows with the new generated reports for verification...\n",
      "First 5 rows of `concept_content` with generated reports:\n",
      "   person_id                                    concept_details  \\\n",
      "0          8  Condition Name: Open angle with borderline int...   \n",
      "1          8  Condition Name: Open angle with borderline int...   \n",
      "2          8  Condition Name: Open angle with borderline int...   \n",
      "3          8  Condition Name: Open angle with borderline int...   \n",
      "4          8  Condition Name: Open angle with borderline int...   \n",
      "\n",
      "                                    generated_report  \n",
      "0  **Subjective:**\\nPatient reports no new or wor...  \n",
      "1  **Subjective:**\\nPatient reports no specific o...  \n",
      "2  **Subjective:**\\nPatient reports no new or wor...  \n",
      "3  **Subjective:**\\nPatient reports no new or wor...  \n",
      "4  **Subjective:**\\nPatient reports no current oc...  \n"
     ]
    }
   ],
   "source": [
    "from google.cloud import bigquery\n",
    "import time\n",
    "\n",
    "# Initialize the BigQuery client\n",
    "client = bigquery.Client(project=PROJECT_ID)\n",
    "\n",
    "#The update query to call the Gemini model for each row.\n",
    "#We'll use a `WHERE` clause to process only rows where the report is still NULL.\n",
    "#This prevents reprocessing the same data if the script is run again.\n",
    "update_query = f\"\"\"\n",
    "UPDATE `{PROJECT_ID}.{DATASET_ID}.{DATASET_TABLE}` AS t\n",
    "SET\n",
    "    t.generated_report = model_output.ml_generate_text_llm_result\n",
    "FROM\n",
    "    ML.GENERATE_TEXT(\n",
    "        MODEL `{PROJECT_ID}.{DATASET_ID}.{GENERATION_MODEL_NAME }`,\n",
    "        (\n",
    "            SELECT\n",
    "                \n",
    "                t.unique_id AS unique_row_id,\n",
    "                CONCAT(\n",
    "                    \"Generate a detailed and fictional patient progress note using the SOAP (Subjective, Objective, Assessment, Plan) format for the following patient data. \",\n",
    "                    \"Do not include any personal identifying information. Keep the tone informative and formal. Do not include date or time, they are noted elsewhere - only report the details of SOAP, and nothing else. \",\n",
    "                    \"Patient Data: \", t.concept_details,\n",
    "                    \"\\\\nSubjective Based on the patient's condition, describe the patient's chief complaint or subjective narrative of their symptoms.\",\n",
    "                    \"\\\\nObjective Based on the patient's condition, provide an objective description of the findings, such as physical examination results or lab work (create fictional but plausible details).\",\n",
    "                    \"\\\\nAssessment Formulate a differential diagnosis or an assessment of the patient's condition based on the subjective and objective information.\",\n",
    "                    \"\\\\nPlan Outline a plan for the patient's treatment, follow-up, and further testing.\"\n",
    "                ) AS prompt\n",
    "            FROM\n",
    "                `{PROJECT_ID}.{DATASET_ID}.{DATASET_TABLE}` AS t\n",
    "            WHERE\n",
    "                t.generated_report IS NULL\n",
    "            LIMIT 100\n",
    "        ),\n",
    "        STRUCT(\n",
    "            1024 AS max_output_tokens,\n",
    "            0.5 AS temperature,\n",
    "            TRUE AS flatten_json_output\n",
    "        )\n",
    "    ) AS model_output\n",
    "WHERE\n",
    "    t.unique_id = model_output.unique_row_id;\n",
    "\"\"\"\n",
    "\n",
    "print(f\"Executing update query using BigQuery ML model '{GENERATION_MODEL_NAME }'...\")\n",
    "\n",
    "#Loop until all rows have been updated\n",
    "while True:\n",
    "    #Run the update query\n",
    "    query_job = client.query(update_query)\n",
    "\n",
    "    #Wait for the query to complete\n",
    "    query_job.result()\n",
    "\n",
    "    #Get the number of rows affected by the UPDATE statement\n",
    "    rows_affected = query_job.num_dml_affected_rows\n",
    "\n",
    "    print(f\"\\nUpdate completed. {rows_affected} reports generated and saved.\")\n",
    "\n",
    "    #If no rows were affected, we have processed all of them.\n",
    "    if rows_affected == 0:\n",
    "        print(\"All records have been updated. The process is complete.\")\n",
    "        break\n",
    "\n",
    "    #Pause briefly between loops to avoid rate-limiting issues.\n",
    "    time.sleep(1)\n",
    "\n",
    "print(\"\\nFetching first 5 rows with the new generated reports for verification...\")\n",
    "\n",
    "verification_query = f\"\"\"\n",
    "SELECT\n",
    "    person_id,\n",
    "    concept_details,\n",
    "    generated_report\n",
    "FROM `{PROJECT_ID}.{DATASET_ID}.{DATASET_TABLE}`\n",
    "WHERE generated_report IS NOT NULL\n",
    "LIMIT 5;\n",
    "\"\"\"\n",
    "\n",
    "df_results = client.query(verification_query).to_dataframe()\n",
    "\n",
    "print(\"First 5 rows of `concept_content` with generated reports:\")\n",
    "print(df_results)"
   ]
  },
  {
   "cell_type": "markdown",
   "id": "887aa60b",
   "metadata": {
    "papermill": {
     "duration": 0.006783,
     "end_time": "2025-09-18T14:55:35.884854",
     "exception": false,
     "start_time": "2025-09-18T14:55:35.878071",
     "status": "completed"
    },
    "tags": []
   },
   "source": [
    "We now have all our data! And its quite bolsterous too!"
   ]
  },
  {
   "cell_type": "markdown",
   "id": "bfd81d46",
   "metadata": {
    "papermill": {
     "duration": 0.006493,
     "end_time": "2025-09-18T14:55:35.898233",
     "exception": false,
     "start_time": "2025-09-18T14:55:35.891740",
     "status": "completed"
    },
    "tags": []
   },
   "source": [
    "# Embedding our reports\n",
    "\n",
    "For those unfamiliar, with Embeddings we 'vectorize' the words; this lets us store the meaning of a word rather than just the letters itself, which in turn lets you query for them later; vectorizing the word 'phone' will store it alongside similar words like 'telephone', 'mobile phone', or maybe even some phone brands. In a medical context, we're basically grouping similar reports together. \n",
    "When then asking a question, we will scoop up reports that are very close to the embedded version of what we are asking, thus getting only relevant reports back.\n",
    "\n",
    "Like before, we need to generate an ML model for this.\n",
    "I'll be using Google's own text-embedding model."
   ]
  },
  {
   "cell_type": "code",
   "execution_count": 8,
   "id": "23e380e0",
   "metadata": {
    "execution": {
     "iopub.execute_input": "2025-09-18T14:55:35.915882Z",
     "iopub.status.busy": "2025-09-18T14:55:35.915241Z",
     "iopub.status.idle": "2025-09-18T14:55:35.922980Z",
     "shell.execute_reply": "2025-09-18T14:55:35.920673Z"
    },
    "papermill": {
     "duration": 0.018578,
     "end_time": "2025-09-18T14:55:35.925201",
     "exception": false,
     "start_time": "2025-09-18T14:55:35.906623",
     "status": "completed"
    },
    "tags": []
   },
   "outputs": [],
   "source": [
    "EMBEDDING_MODEL_NAME = \"embedding_generation\" #Set this to what you want the ML model to be named.\n",
    "EMBEDDING_MODEL_TYPE = \"text-embedding-005\" #What model do you want to use."
   ]
  },
  {
   "cell_type": "code",
   "execution_count": 9,
   "id": "2f5f6aae",
   "metadata": {
    "execution": {
     "iopub.execute_input": "2025-09-18T14:55:35.941992Z",
     "iopub.status.busy": "2025-09-18T14:55:35.941610Z",
     "iopub.status.idle": "2025-09-18T14:55:39.236655Z",
     "shell.execute_reply": "2025-09-18T14:55:39.235489Z"
    },
    "papermill": {
     "duration": 3.305762,
     "end_time": "2025-09-18T14:55:39.238493",
     "exception": false,
     "start_time": "2025-09-18T14:55:35.932731",
     "status": "completed"
    },
    "tags": []
   },
   "outputs": [
    {
     "name": "stdout",
     "output_type": "stream",
     "text": [
      "Model created successfully.\n"
     ]
    }
   ],
   "source": [
    "full_model_name = f\"`{PROJECT_ID}.{DATASET_ID}.{EMBEDDING_MODEL_NAME}`\"\n",
    "\n",
    "model_generation_query = f\"\"\"\n",
    "CREATE OR REPLACE MODEL {full_model_name}\n",
    "REMOTE WITH CONNECTION DEFAULT\n",
    "OPTIONS(ENDPOINT = '{EMBEDDING_MODEL_TYPE}')\n",
    "\"\"\"\n",
    "\n",
    "try:\n",
    "    # Execute the query\n",
    "    job = client.query(model_generation_query)\n",
    "    job.result()  # Wait for the job to complete\n",
    "    \n",
    "    print(\"Model created successfully.\")\n",
    "except Exception as e:\n",
    "    print(f\"An error occurred: {e}\")"
   ]
  },
  {
   "cell_type": "markdown",
   "id": "8007d4fd",
   "metadata": {
    "papermill": {
     "duration": 0.006607,
     "end_time": "2025-09-18T14:55:39.252191",
     "exception": false,
     "start_time": "2025-09-18T14:55:39.245584",
     "status": "completed"
    },
    "tags": []
   },
   "source": [
    "Now that we have our model, we can create embeddings.\n",
    "For each row of our dataset, the content gets turned into embeddings and written back to our table. We can use the dedicated ML.GENERATE_EMBEDDING for this\n",
    "\n"
   ]
  },
  {
   "cell_type": "code",
   "execution_count": 10,
   "id": "067fea50",
   "metadata": {
    "execution": {
     "iopub.execute_input": "2025-09-18T14:55:39.268775Z",
     "iopub.status.busy": "2025-09-18T14:55:39.268352Z",
     "iopub.status.idle": "2025-09-18T14:56:18.204631Z",
     "shell.execute_reply": "2025-09-18T14:56:18.203181Z"
    },
    "papermill": {
     "duration": 38.946962,
     "end_time": "2025-09-18T14:56:18.206717",
     "exception": false,
     "start_time": "2025-09-18T14:55:39.259755",
     "status": "completed"
    },
    "tags": []
   },
   "outputs": [
    {
     "name": "stdout",
     "output_type": "stream",
     "text": [
      "Embedding reports using the BigQuery ML model  and updating the 'concept_content' table...\n",
      "\n",
      "Merge completed. 100 reports embedded and saved.\n",
      "\n",
      "Merge completed. 100 reports embedded and saved.\n",
      "\n",
      "Merge completed. 100 reports embedded and saved.\n",
      "\n",
      "Merge completed. 100 reports embedded and saved.\n",
      "\n",
      "Merge completed. 100 reports embedded and saved.\n",
      "\n",
      "Merge completed. 0 reports embedded and saved.\n",
      "All records have been embedded. The process is complete.\n",
      "\n",
      "Fetching first 5 rows with the new embeddings for verification...\n",
      "First 5 rows of `concept_content` with generated embeddings:\n",
      "   person_id                                   generated_report  \\\n",
      "0          5  **Subjective:**\\nPatient reports persistent, d...   \n",
      "1          5  Subjective:\\nPatient reports a gradual onset o...   \n",
      "2          5  **Subjective:**\\nPatient reports a progressive...   \n",
      "3          5  **Subjective:**\\nPatient reports a persistent,...   \n",
      "4          5  **Subjective:**\\nPatient reports persistent, d...   \n",
      "\n",
      "                                   report_embeddings  \n",
      "0  [0.04007729887962341, -0.029499368742108345, 0...  \n",
      "1  [0.005852995906025171, -0.023953527212142944, ...  \n",
      "2  [0.024752525612711906, -0.004909101873636246, ...  \n",
      "3  [0.027503246441483498, 0.0024890576023608446, ...  \n",
      "4  [0.019918840378522873, -0.0064134253188967705,...  \n"
     ]
    }
   ],
   "source": [
    "from google.cloud import bigquery\n",
    "import time\n",
    "\n",
    "# Initialize the BigQuery client\n",
    "client = bigquery.Client(project=PROJECT_ID)\n",
    "\n",
    "merge_query = f\"\"\"\n",
    "MERGE `{PROJECT_ID}.{DATASET_ID}.{DATASET_TABLE}` AS T\n",
    "USING (\n",
    "  WITH ReportsToEmbed AS (\n",
    "    SELECT\n",
    "      t.unique_id,\n",
    "      t.generated_report AS content,\n",
    "      ROW_NUMBER() OVER() AS row_num\n",
    "    FROM\n",
    "      `{PROJECT_ID}.{DATASET_ID}.{DATASET_TABLE}` AS t\n",
    "    WHERE\n",
    "      t.generated_report IS NOT NULL AND (t.report_embeddings IS NULL OR ARRAY_LENGTH(t.report_embeddings) = 0)\n",
    "    LIMIT 100\n",
    "  ),\n",
    "  EmbeddingsWithId AS (\n",
    "    SELECT\n",
    "      ml_generate_embedding_result,\n",
    "      ROW_NUMBER() OVER() AS row_num\n",
    "    FROM\n",
    "      ML.GENERATE_EMBEDDING(\n",
    "        MODEL `{PROJECT_ID}.{DATASET_ID}.{EMBEDDING_MODEL_NAME}`,\n",
    "        (SELECT content FROM ReportsToEmbed ORDER BY row_num)\n",
    "      )\n",
    "  )\n",
    "  SELECT\n",
    "    r.unique_id,\n",
    "    e.ml_generate_embedding_result\n",
    "  FROM\n",
    "    ReportsToEmbed r\n",
    "  JOIN\n",
    "    EmbeddingsWithId e\n",
    "  ON\n",
    "    r.row_num = e.row_num\n",
    ") AS S\n",
    "ON T.unique_id = S.unique_id\n",
    "WHEN MATCHED THEN\n",
    "  UPDATE SET T.report_embeddings = S.ml_generate_embedding_result;\n",
    "\"\"\"\n",
    "\n",
    "print(f\"Embedding reports using the BigQuery ML model  and updating the '{DATASET_TABLE}' table...\")\n",
    "\n",
    "# Loop until all reports have been embedded\n",
    "while True:\n",
    "    #Run the MERGE query\n",
    "    query_job = client.query(merge_query)\n",
    "\n",
    "    #Wait for the query to complete\n",
    "    query_job.result()\n",
    "\n",
    "    #Get the number of rows affected by the MERGE statement\n",
    "    rows_affected = query_job.num_dml_affected_rows\n",
    "\n",
    "    print(f\"\\nMerge completed. {rows_affected} reports embedded and saved.\")\n",
    "\n",
    "    # If no rows were affected, all reports have been processed.\n",
    "    if rows_affected == 0:\n",
    "        print(\"All records have been embedded. The process is complete.\")\n",
    "        break\n",
    "\n",
    "    # Optional: Pause briefly between loops to avoid rate-limiting issues.\n",
    "    time.sleep(1)\n",
    "\n",
    "print(\"\\nFetching first 5 rows with the new embeddings for verification...\")\n",
    "\n",
    "verification_query = f\"\"\"\n",
    "SELECT\n",
    "    person_id,\n",
    "    generated_report,\n",
    "    report_embeddings\n",
    "FROM `{PROJECT_ID}.{DATASET_ID}.{DATASET_TABLE}`\n",
    "WHERE report_embeddings IS NOT NULL\n",
    "LIMIT 5;\n",
    "\"\"\"\n",
    "\n",
    "df_results = client.query(verification_query).to_dataframe()\n",
    "\n",
    "print(\"First 5 rows of `concept_content` with generated embeddings:\")\n",
    "print(df_results)"
   ]
  },
  {
   "cell_type": "markdown",
   "id": "3297404c",
   "metadata": {
    "papermill": {
     "duration": 0.006734,
     "end_time": "2025-09-18T14:56:18.221039",
     "exception": false,
     "start_time": "2025-09-18T14:56:18.214305",
     "status": "completed"
    },
    "tags": []
   },
   "source": [
    "We've not successfully embedded the content!\n",
    "As you can see by the output, the report_embeddings are now entirely unreadable for humans but it is key to perform a similarity search."
   ]
  },
  {
   "cell_type": "markdown",
   "id": "8940d263",
   "metadata": {
    "papermill": {
     "duration": 0.006749,
     "end_time": "2025-09-18T14:56:18.235313",
     "exception": false,
     "start_time": "2025-09-18T14:56:18.228564",
     "status": "completed"
    },
    "tags": []
   },
   "source": [
    "# Querying our Embeddings.\n",
    "\n",
    "\n",
    "As a proof of concept, we will now query a symptom against our data. Because our reports are done per person, we can query it for only 1 patient and see what reports are similar to what we asked.\n",
    "There are multiple ways to do this, but to stay on theme here I want to keep using BigQuery for it and use VECTOR_SEARCH function (I did initially also use ML.DISTANCE)\n",
    "\n",
    "For a more Google-minded approach, look into Vector Search: https://cloud.google.com/vertex-ai/docs/vector-search/overview - This, in my opnion, only gets interesting with huge datasets.\n",
    "My preferred method is using the sklearn python library, however I have not done that at scale.\n",
    "\n",
    "On top of the similarity search, I added a minimal_similarity treshold - this is to not waste the caretakers time by giving irrelevant results back. This is important in any and all Vector Searches, as the code as is will always try to return the highest ranking results even if they barely match at all.\n"
   ]
  },
  {
   "cell_type": "code",
   "execution_count": 11,
   "id": "540419b7",
   "metadata": {
    "execution": {
     "iopub.execute_input": "2025-09-18T14:56:18.251285Z",
     "iopub.status.busy": "2025-09-18T14:56:18.250875Z",
     "iopub.status.idle": "2025-09-18T14:56:18.256640Z",
     "shell.execute_reply": "2025-09-18T14:56:18.255659Z"
    },
    "papermill": {
     "duration": 0.016138,
     "end_time": "2025-09-18T14:56:18.258498",
     "exception": false,
     "start_time": "2025-09-18T14:56:18.242360",
     "status": "completed"
    },
    "tags": []
   },
   "outputs": [],
   "source": [
    "query = \"Lower back problems\"\n",
    "patient_id = 1\n",
    "start_date = \"2009-01-01\"\n",
    "end_date = \"2010-01-01\""
   ]
  },
  {
   "cell_type": "code",
   "execution_count": 12,
   "id": "b177bfd4",
   "metadata": {
    "execution": {
     "iopub.execute_input": "2025-09-18T14:56:18.275194Z",
     "iopub.status.busy": "2025-09-18T14:56:18.274822Z",
     "iopub.status.idle": "2025-09-18T14:56:22.107249Z",
     "shell.execute_reply": "2025-09-18T14:56:22.105740Z"
    },
    "papermill": {
     "duration": 3.843682,
     "end_time": "2025-09-18T14:56:22.109726",
     "exception": false,
     "start_time": "2025-09-18T14:56:18.266044",
     "status": "completed"
    },
    "tags": []
   },
   "outputs": [
    {
     "name": "stdout",
     "output_type": "stream",
     "text": [
      "Performing similarity search using BigQuery ML for query: 'Lower back problems'\n",
      "\n",
      "--- Top Matching Concepts for query: 'Lower back problems' ---\n",
      "\n",
      "Rank 1: Score = 0.6961\n",
      "  Concept: Condition Name: Low back pain\n",
      "Ancestor Name: Backache\n",
      "  Details: **Subjective:**\n",
      "Patient reports a chief complaint of persistent low back pain, described as a dull, aching sensation that has been present for approximately three weeks. The pain is localized to the lumbar region and occasionally radiates into the posterior thighs bilaterally, but does not extend below the knees. The patient reports the pain is exacerbated by prolonged sitting, standing, and bending forward. They deny any recent trauma or injury. Pain intensity is rated as a 6/10 at its worst and 2/10 at its best. The patient reports mild stiffness in the morning that improves with movement. They deny any bowel or bladder incontinence, numbness, or tingling in the extremities, or fever.\n",
      "\n",
      "**Objective:**\n",
      "Physical examination reveals a well-appearing patient in no acute distress. Lumbar spine range of motion is limited in flexion (to approximately 45 degrees) due to pain. Extension and lateral bending are within normal limits but elicit mild discomfort. Palpation of the lumbar paraspinal muscles reveals moderate tenderness and guarding. Straight leg raise test is negative bilaterally to 90 degrees. Neurological examination of the lower extremities is grossly intact, with 5/5 motor strength in all muscle groups, intact sensation to light touch and pinprick, and 2+ deep tendon reflexes. No focal tenderness over the spinous processes or sacroiliac joints is noted.\n",
      "\n",
      "**Assessment:**\n",
      "The patient's presentation is consistent with mechanical low back pain, likely due to muscle strain or ligamentous sprain. The absence of neurological deficits, red flag symptoms (such as bowel/bladder dysfunction, fever, or recent trauma), and significant radiation of pain suggests a non-emergent etiology. Differential diagnoses include lumbar muscle strain, lumbar ligamentous sprain, and early degenerative disc disease. Further investigation is not immediately warranted given the absence of red flag symptoms.\n",
      "\n",
      "**Plan:**\n",
      "1.  **Conservative Management:**\n",
      "    *   Recommend activity modification, avoiding prolonged sitting or standing and heavy lifting. Encourage frequent breaks and gentle movement.\n",
      "    *   Initiate a course of over-the-counter analgesics, such as acetaminophen or ibuprofen, as needed for pain relief, with instructions to follow package directions.\n",
      "    *   Prescribe a short course of a muscle relaxant (e.g., cyclobenzaprine) as needed for nocturnal pain or significant muscle spasm.\n",
      "    *   Encourage application of heat or ice to the affected area for symptomatic relief.\n",
      "2.  **Physical Therapy Referral:**\n",
      "    *   Refer to physical therapy for a comprehensive evaluation and individualized exercise program focusing on core strengthening, stretching, and postural education.\n",
      "3.  **Patient Education:**\n",
      "    *   Educate the patient on proper body mechanics and lifting techniques.\n",
      "    *   Discuss the expected prognosis and the importance of adherence to the treatment plan.\n",
      "4.  **Follow-up:**\n",
      "    *   Schedule a follow-up appointment in 2-4 weeks to reassess symptoms and response to treatment.\n",
      "    *   Instruct the patient to return sooner or seek immediate medical attention if they develop new or worsening symptoms, including numbness, tingling, weakness in the legs, or changes in bowel or bladder function.\n",
      "------------\n",
      "\n",
      "Rank 2: Score = 0.6904\n",
      "  Concept: Condition Name: Backache\n",
      "Ancestor Name: Finding of sensation by site\n",
      "  Details: **Subjective:**\n",
      "\n",
      "Patient reports a persistent, dull, aching pain localized to the lumbar region of the spine. Pain intensity is rated as 5/10 at rest, increasing to 7/10 with prolonged sitting or standing, and 8/10 with bending or lifting. Patient denies any radiation of pain into the lower extremities, numbness, tingling, or weakness. Reports occasional stiffness in the morning, which improves with gentle movement. No history of recent trauma or injury. Patient states the pain has been present for approximately two weeks and has gradually worsened.\n",
      "\n",
      "**Objective:**\n",
      "\n",
      "Physical examination reveals tenderness to palpation over the paraspinal muscles in the lumbar region, particularly at the L4-L5 interspace. Range of motion of the lumbar spine is mildly restricted in flexion and extension due to pain. Straight leg raise test is negative bilaterally. Neurological examination of the lower extremities is grossly intact, with intact sensation, motor strength (5/5 in all muscle groups), and reflexes. No palpable masses or deformities noted. Lumbar spine X-rays were reviewed and demonstrate mild degenerative changes at L4-L5 with no evidence of fracture, dislocation, or significant spondylolisthesis.\n",
      "\n",
      "**Assessment:**\n",
      "\n",
      "The patient's presentation is consistent with acute to subacute mechanical lower back pain, likely secondary to lumbar muscle strain or ligamentous sprain. The absence of neurological deficits, red flags (e.g., fever, unexplained weight loss, bowel/bladder dysfunction), and significant findings on imaging makes more serious etiologies such as disc herniation, spinal stenosis, or fracture less likely at this time. The mild degenerative changes noted on X-ray are common and may contribute to the patient's symptoms, but are not the primary driver of the acute pain.\n",
      "\n",
      "**Plan:**\n",
      "\n",
      "1.  **Pain Management:** Recommend over-the-counter analgesics such as acetaminophen or ibuprofen as needed for pain relief, taken with food.\n",
      "2.  **Activity Modification:** Advise patient to avoid activities that exacerbate pain, such as heavy lifting, prolonged sitting or standing, and strenuous bending. Encourage gentle movement and stretching within pain tolerance.\n",
      "3.  **Physical Therapy Referral:** Refer patient to physical therapy for evaluation and treatment, focusing on core strengthening exercises, stretching, and education on proper body mechanics.\n",
      "4.  **Follow-up:** Schedule a follow-up appointment in 2-3 weeks to assess response to treatment and review progress.\n",
      "5.  **Education:** Educate patient on the nature of mechanical back pain, the importance of maintaining activity, and strategies for preventing future episodes. Advise to seek immediate medical attention if new neurological symptoms (e.g., weakness, numbness, bowel/bladder changes) develop.\n",
      "------------\n",
      "\n",
      "Rank 3: Score = 0.6898\n",
      "  Concept: Condition Name: Low back pain\n",
      "Ancestor Name: Finding of sensation by site\n",
      "  Details: **Subjective:**\n",
      "Patient reports a chief complaint of low back pain, described as a persistent, dull ache radiating into the left buttock. Pain intensity is rated as 6/10 at its worst, exacerbated by prolonged sitting and bending forward. Patient denies any numbness, tingling, or weakness in the lower extremities. Reports occasional stiffness in the morning that improves with gentle movement. No history of recent trauma or injury. Patient states the pain began gradually approximately two weeks ago.\n",
      "\n",
      "**Objective:**\n",
      "Physical examination reveals mild tenderness to palpation over the lumbar paraspinal muscles bilaterally, with greater sensitivity noted on the left. Range of motion for lumbar flexion is limited to 60 degrees due to pain. Extension and lateral bending are within normal limits. Straight leg raise test is negative bilaterally. Neurological examination of the lower extremities is grossly intact, with 5/5 strength in all muscle groups, intact sensation to light touch and pinprick, and 2+ deep tendon reflexes at the patellar and Achilles tendons. No palpable crepitus or deformities noted.\n",
      "\n",
      "**Assessment:**\n",
      "The patient's presentation is consistent with acute lumbar strain or sprain, likely due to mechanical factors given the onset and aggravating/alleviating factors. The absence of neurological deficits and positive straight leg raise test makes radiculopathy less likely at this time. Differential diagnoses include lumbar muscle strain, ligamentous sprain, or early degenerative disc disease, though the latter is less likely given the acute onset and lack of prior history.\n",
      "\n",
      "**Plan:**\n",
      "1.  **Pain Management:** Recommend over-the-counter analgesics such as acetaminophen or ibuprofen as needed for pain relief, with instructions to follow package directions.\n",
      "2.  **Activity Modification:** Advise patient to avoid activities that exacerbate pain, such as prolonged sitting, heavy lifting, and bending. Encourage frequent position changes and short walks.\n",
      "3.  **Physical Therapy:** Refer patient to physical therapy for a course of treatment focusing on core strengthening exercises, stretching, and education on proper body mechanics.\n",
      "4.  **Home Exercise Program:** Provide patient with a handout detailing gentle stretching and strengthening exercises to perform at home.\n",
      "5.  **Follow-up:** Schedule a follow-up appointment in 2-3 weeks to reassess symptoms and response to treatment. If symptoms do not improve or worsen, further investigation with imaging may be considered.\n",
      "------------\n"
     ]
    }
   ],
   "source": [
    "import numpy as np\n",
    "import pandas as pd\n",
    "from google.cloud import bigquery\n",
    "\n",
    "TOP_K_RESULTS = 3 #How many results we want returned\n",
    "MINIMAL_SIMILARITY = 0.6 #How good results have to be in order to be returned. \n",
    "\n",
    "def perform_similarity_search_bigquery_ml(query, patient_id, start_date, end_date):\n",
    "    client = bigquery.Client(project=PROJECT_ID)\n",
    "\n",
    "    try:\n",
    "        print(f\"Performing similarity search using BigQuery ML for query: '{query}'\")\n",
    "\n",
    "        # The SQL query to generate the query embedding and perform the search\n",
    "        sql_query = f\"\"\"\n",
    "        SELECT\n",
    "          base.concept_details,\n",
    "          base.generated_report,\n",
    "          1 - distance AS cosine_similarity -- Convert cosine distance to similarity\n",
    "        FROM\n",
    "          VECTOR_SEARCH(\n",
    "            (\n",
    "              SELECT\n",
    "                *\n",
    "              FROM\n",
    "                `{PROJECT_ID}.{DATASET_ID}.{DATASET_TABLE}`\n",
    "              WHERE\n",
    "                person_id = @patient_id\n",
    "                AND condition_start_date >= @start_date\n",
    "                AND condition_end_date < @end_date\n",
    "            ),\n",
    "            'report_embeddings', -- The column to search, as a string literal\n",
    "            (\n",
    "              SELECT\n",
    "                ml_generate_embedding_result AS embedding\n",
    "              FROM\n",
    "                ML.GENERATE_EMBEDDING(\n",
    "                  MODEL `{PROJECT_ID}.{DATASET_ID}.{EMBEDDING_MODEL_NAME}`,\n",
    "                  (SELECT @query AS content)\n",
    "                )\n",
    "            ),\n",
    "            query_column_to_search => 'embedding', -- Named argument for the query column\n",
    "            top_k => @top_k_results, -- Named argument for top_k\n",
    "            distance_type => 'COSINE' -- Named argument for distance_type\n",
    "          )\n",
    "        WHERE\n",
    "          1 - distance >= @minimal_similarity \n",
    "        ORDER BY\n",
    "          cosine_similarity DESC;\n",
    "        \"\"\"\n",
    "        \n",
    "        #Configure the query with parameters to prevent SQL injection and ensure type safety\n",
    "        job_config = bigquery.QueryJobConfig(\n",
    "            query_parameters=[\n",
    "                bigquery.ScalarQueryParameter(\"query\", \"STRING\", query),\n",
    "                bigquery.ScalarQueryParameter(\"patient_id\", \"INT64\", patient_id),\n",
    "                bigquery.ScalarQueryParameter(\"start_date\", \"STRING\", start_date),\n",
    "                bigquery.ScalarQueryParameter(\"end_date\", \"STRING\", end_date),\n",
    "                bigquery.ScalarQueryParameter(\"top_k_results\", \"INT64\", TOP_K_RESULTS),\n",
    "                bigquery.ScalarQueryParameter(\"minimal_similarity\", \"FLOAT64\", MINIMAL_SIMILARITY),\n",
    "\n",
    "            ]\n",
    "        )\n",
    "\n",
    "        #Run the query\n",
    "        query_job = client.query(sql_query, job_config=job_config)\n",
    "\n",
    "        #Load the results directly into a DataFrame\n",
    "        results_df = query_job.to_dataframe()\n",
    "\n",
    "        if results_df.empty:\n",
    "            print(\"No matching concepts found for the given criteria.\")\n",
    "            return\n",
    "\n",
    "        # Display the results\n",
    "        print(f\"\\n--- Top Matching Concepts for query: '{query}' ---\")\n",
    "        for rank, row in results_df.iterrows():\n",
    "            print(f\"\\nRank {rank + 1}: Score = {row['cosine_similarity']:.4f}\")\n",
    "            print(f\"  Concept: {row['concept_details']}\")\n",
    "            print(f\"  Details: {row['generated_report']}\")\n",
    "            print(\"------------\")\n",
    "\n",
    "    except Exception as e:\n",
    "        print(f\"An error occurred: {e}\")\n",
    "\n",
    "perform_similarity_search_bigquery_ml(query=query, patient_id=patient_id, start_date=start_date, end_date=end_date)"
   ]
  },
  {
   "cell_type": "markdown",
   "id": "1d5ee069",
   "metadata": {
    "papermill": {
     "duration": 0.008297,
     "end_time": "2025-09-18T14:56:22.126447",
     "exception": false,
     "start_time": "2025-09-18T14:56:22.118150",
     "status": "completed"
    },
    "tags": []
   },
   "source": [
    "Like said before, we are keeping with the theme and using BigQueryML.\n",
    "\n",
    "A bit hard to describe as it's 1 big SQL statement, but we are doing the following:\n",
    "- Generating Embeddings for our Query, the same way we have done for our generated reports before. This makes them comparable to each other as they use the same embeddings/language.\n",
    "- Using VECTOR_SEARCH to compare this embedding to the embeddings from our table.\n",
    "- This performs a cosine similarity search to see how \"similar\" they are.\n",
    "- The top 3 reports then get returned to us.\n",
    "\n",
    "With the default values, I know patient 1 suffers from lower back problems by looking through the data prior.\n",
    "Indeed, the highest returning scores from our vector search for our question relates to their back issues. "
   ]
  },
  {
   "cell_type": "markdown",
   "id": "c9626db2",
   "metadata": {
    "papermill": {
     "duration": 0.00738,
     "end_time": "2025-09-18T14:56:22.141684",
     "exception": false,
     "start_time": "2025-09-18T14:56:22.134304",
     "status": "completed"
    },
    "tags": []
   },
   "source": [
    "# Creating an Agent to call our function\n",
    "This is all well and good, but this isn't usable for a medical professional. At least, the ones I've met aren't proficient in Python and BigQuery.\n",
    "\n",
    "Using Gemini, we can interact with it and have it call our python functions when it deems appropiate.\n",
    "This is done using a concept called function calling - https://cloud.google.com/vertex-ai/generative-ai/docs/multimodal/function-calling\n",
    "\n",
    "In the following code we specify a prompt and a patient to ask it about.\n",
    "We then create a Tool; this is the format that Gemini uses to do Function Calling.\n",
    "Assuming we ask a good enough question, Gemini will then recognize it and fill in the function arguments for us.\n",
    "\n",
    "The code then executes the function with the params given by Gemini."
   ]
  },
  {
   "cell_type": "code",
   "execution_count": 13,
   "id": "087fab9a",
   "metadata": {
    "execution": {
     "iopub.execute_input": "2025-09-18T14:56:22.158908Z",
     "iopub.status.busy": "2025-09-18T14:56:22.158461Z",
     "iopub.status.idle": "2025-09-18T14:56:22.163903Z",
     "shell.execute_reply": "2025-09-18T14:56:22.162888Z"
    },
    "papermill": {
     "duration": 0.016578,
     "end_time": "2025-09-18T14:56:22.165737",
     "exception": false,
     "start_time": "2025-09-18T14:56:22.149159",
     "status": "completed"
    },
    "tags": []
   },
   "outputs": [],
   "source": [
    "MODEL_NAME = \"gemini-2.5-flash-lite\"\n",
    "PROMPT = \"Does this patient have a history with lower back problems?\"\n",
    "PATIENT_ID = 1"
   ]
  },
  {
   "cell_type": "code",
   "execution_count": 14,
   "id": "54549378",
   "metadata": {
    "execution": {
     "iopub.execute_input": "2025-09-18T14:56:22.183246Z",
     "iopub.status.busy": "2025-09-18T14:56:22.182863Z",
     "iopub.status.idle": "2025-09-18T14:56:29.158346Z",
     "shell.execute_reply": "2025-09-18T14:56:29.157022Z"
    },
    "papermill": {
     "duration": 6.986646,
     "end_time": "2025-09-18T14:56:29.160348",
     "exception": false,
     "start_time": "2025-09-18T14:56:22.173702",
     "status": "completed"
    },
    "tags": []
   },
   "outputs": [
    {
     "name": "stdout",
     "output_type": "stream",
     "text": [
      "GenAI client initialized successfully with Kaggle credentials.\n",
      "Sending prompt to the model...\n",
      "\n",
      "Model response contains a function call:\n",
      "id=None args={'start_date': '1970-01-01', 'end_date': '2025-09-18', 'query': 'lower back problems', 'patient_id': '1'} name='perform_similarity_search_bigquery_ml'\n",
      "Performing similarity search using BigQuery ML for query: 'lower back problems'\n",
      "\n",
      "--- Top Matching Concepts for query: 'lower back problems' ---\n",
      "\n",
      "Rank 1: Score = 0.6915\n",
      "  Concept: Condition Name: Low back pain\n",
      "Ancestor Name: Backache\n",
      "  Details: **Subjective:**\n",
      "Patient reports a chief complaint of persistent low back pain, described as a dull, aching sensation that has been present for approximately three weeks. The pain is localized to the lumbar region and occasionally radiates into the posterior thighs bilaterally, but does not extend below the knees. The patient reports the pain is exacerbated by prolonged sitting, standing, and bending forward. They deny any recent trauma or injury. Pain intensity is rated as a 6/10 at its worst and 2/10 at its best. The patient reports mild stiffness in the morning that improves with movement. They deny any bowel or bladder incontinence, numbness, or tingling in the extremities, or fever.\n",
      "\n",
      "**Objective:**\n",
      "Physical examination reveals a well-appearing patient in no acute distress. Lumbar spine range of motion is limited in flexion (to approximately 45 degrees) due to pain. Extension and lateral bending are within normal limits but elicit mild discomfort. Palpation of the lumbar paraspinal muscles reveals moderate tenderness and guarding. Straight leg raise test is negative bilaterally to 90 degrees. Neurological examination of the lower extremities is grossly intact, with 5/5 motor strength in all muscle groups, intact sensation to light touch and pinprick, and 2+ deep tendon reflexes. No focal tenderness over the spinous processes or sacroiliac joints is noted.\n",
      "\n",
      "**Assessment:**\n",
      "The patient's presentation is consistent with mechanical low back pain, likely due to muscle strain or ligamentous sprain. The absence of neurological deficits, red flag symptoms (such as bowel/bladder dysfunction, fever, or recent trauma), and significant radiation of pain suggests a non-emergent etiology. Differential diagnoses include lumbar muscle strain, lumbar ligamentous sprain, and early degenerative disc disease. Further investigation is not immediately warranted given the absence of red flag symptoms.\n",
      "\n",
      "**Plan:**\n",
      "1.  **Conservative Management:**\n",
      "    *   Recommend activity modification, avoiding prolonged sitting or standing and heavy lifting. Encourage frequent breaks and gentle movement.\n",
      "    *   Initiate a course of over-the-counter analgesics, such as acetaminophen or ibuprofen, as needed for pain relief, with instructions to follow package directions.\n",
      "    *   Prescribe a short course of a muscle relaxant (e.g., cyclobenzaprine) as needed for nocturnal pain or significant muscle spasm.\n",
      "    *   Encourage application of heat or ice to the affected area for symptomatic relief.\n",
      "2.  **Physical Therapy Referral:**\n",
      "    *   Refer to physical therapy for a comprehensive evaluation and individualized exercise program focusing on core strengthening, stretching, and postural education.\n",
      "3.  **Patient Education:**\n",
      "    *   Educate the patient on proper body mechanics and lifting techniques.\n",
      "    *   Discuss the expected prognosis and the importance of adherence to the treatment plan.\n",
      "4.  **Follow-up:**\n",
      "    *   Schedule a follow-up appointment in 2-4 weeks to reassess symptoms and response to treatment.\n",
      "    *   Instruct the patient to return sooner or seek immediate medical attention if they develop new or worsening symptoms, including numbness, tingling, weakness in the legs, or changes in bowel or bladder function.\n",
      "------------\n",
      "\n",
      "Rank 2: Score = 0.6891\n",
      "  Concept: Condition Name: Backache\n",
      "Ancestor Name: Finding of sensation by site\n",
      "  Details: **Subjective:**\n",
      "\n",
      "Patient reports a persistent, dull, aching pain localized to the lumbar region of the spine. Pain intensity is rated as 5/10 at rest, increasing to 7/10 with prolonged sitting or standing, and 8/10 with bending or lifting. Patient denies any radiation of pain into the lower extremities, numbness, tingling, or weakness. Reports occasional stiffness in the morning, which improves with gentle movement. No history of recent trauma or injury. Patient states the pain has been present for approximately two weeks and has gradually worsened.\n",
      "\n",
      "**Objective:**\n",
      "\n",
      "Physical examination reveals tenderness to palpation over the paraspinal muscles in the lumbar region, particularly at the L4-L5 interspace. Range of motion of the lumbar spine is mildly restricted in flexion and extension due to pain. Straight leg raise test is negative bilaterally. Neurological examination of the lower extremities is grossly intact, with intact sensation, motor strength (5/5 in all muscle groups), and reflexes. No palpable masses or deformities noted. Lumbar spine X-rays were reviewed and demonstrate mild degenerative changes at L4-L5 with no evidence of fracture, dislocation, or significant spondylolisthesis.\n",
      "\n",
      "**Assessment:**\n",
      "\n",
      "The patient's presentation is consistent with acute to subacute mechanical lower back pain, likely secondary to lumbar muscle strain or ligamentous sprain. The absence of neurological deficits, red flags (e.g., fever, unexplained weight loss, bowel/bladder dysfunction), and significant findings on imaging makes more serious etiologies such as disc herniation, spinal stenosis, or fracture less likely at this time. The mild degenerative changes noted on X-ray are common and may contribute to the patient's symptoms, but are not the primary driver of the acute pain.\n",
      "\n",
      "**Plan:**\n",
      "\n",
      "1.  **Pain Management:** Recommend over-the-counter analgesics such as acetaminophen or ibuprofen as needed for pain relief, taken with food.\n",
      "2.  **Activity Modification:** Advise patient to avoid activities that exacerbate pain, such as heavy lifting, prolonged sitting or standing, and strenuous bending. Encourage gentle movement and stretching within pain tolerance.\n",
      "3.  **Physical Therapy Referral:** Refer patient to physical therapy for evaluation and treatment, focusing on core strengthening exercises, stretching, and education on proper body mechanics.\n",
      "4.  **Follow-up:** Schedule a follow-up appointment in 2-3 weeks to assess response to treatment and review progress.\n",
      "5.  **Education:** Educate patient on the nature of mechanical back pain, the importance of maintaining activity, and strategies for preventing future episodes. Advise to seek immediate medical attention if new neurological symptoms (e.g., weakness, numbness, bowel/bladder changes) develop.\n",
      "------------\n",
      "\n",
      "Rank 3: Score = 0.6870\n",
      "  Concept: Condition Name: Backache\n",
      "Ancestor Name: Clinical finding\n",
      "  Details: **Subjective:**\n",
      "Patient reports a persistent, dull ache in the lower back, rated as a 5/10 on the pain scale. The pain began approximately three days ago and has gradually worsened. Patient denies any radiation of pain to the legs, numbness, or tingling. Reports that the pain is exacerbated by prolonged sitting and bending forward, and is slightly relieved by lying down. Denies any recent trauma or injury to the back. Reports some stiffness in the morning that improves with movement. No fever or chills reported.\n",
      "\n",
      "**Objective:**\n",
      "On physical examination, the patient is alert and oriented. Lumbar spine reveals no gross deformities. Palpation of the paraspinal muscles reveals mild tenderness bilaterally at the L4-L5 level. Range of motion of the lumbar spine is mildly limited in flexion due to pain, with a reported pain level of 7/10 at maximal flexion. Extension and lateral bending are within normal limits with minimal discomfort. Straight leg raise test is negative bilaterally. Neurological examination of the lower extremities reveals intact sensation to light touch in all dermatomes, 5/5 motor strength in all muscle groups, and 2+ bilateral deep tendon reflexes. No edema or erythema noted in the lower extremities.\n",
      "\n",
      "**Assessment:**\n",
      "The patient's presentation is consistent with acute lumbar strain. The absence of radicular symptoms, neurological deficits, or signs of infection makes more serious etiologies such as disc herniation or cauda equina syndrome less likely at this time. Differential diagnoses include lumbar strain, myofascial pain syndrome, and early degenerative disc disease.\n",
      "\n",
      "**Plan:**\n",
      "1. **Pain Management:** Recommend over-the-counter non-steroidal anti-inflammatory drugs (NSAIDs) such as ibuprofen or naproxen as needed for pain and inflammation, taken with food. Acetaminophen may be used as an alternative if NSAIDs are contraindicated or ineffective.\n",
      "2. **Activity Modification:** Advise the patient to avoid activities that exacerbate the pain, such as heavy lifting, prolonged sitting or standing, and bending. Encourage gentle movement and stretching as tolerated.\n",
      "3. **Heat/Cold Therapy:** Recommend application of heat or cold packs to the affected area for 15-20 minutes several times a day to help alleviate pain and muscle spasms.\n",
      "4. **Physical Therapy Referral:** Refer patient to physical therapy for evaluation and treatment, focusing on core strengthening, stretching exercises, and education on proper body mechanics.\n",
      "5. **Follow-up:** Schedule a follow-up appointment in two weeks to assess response to treatment. If symptoms do not improve or worsen, further investigation, potentially including imaging studies, will be considered. Patient advised to return sooner if any new or worsening symptoms arise, particularly any signs of neurological compromise (e.g., leg weakness, numbness, bowel or bladder dysfunction).\n",
      "------------\n"
     ]
    }
   ],
   "source": [
    "import time\n",
    "import json\n",
    "from google import genai\n",
    "from google.genai.types import (\n",
    "    FunctionDeclaration,\n",
    "    GenerateContentConfig,\n",
    "    Tool,\n",
    ")\n",
    "\n",
    "from google.cloud import bigquery\n",
    "import time\n",
    "\n",
    "from kaggle_gcp import KaggleKernelCredentials\n",
    "\n",
    "try:\n",
    "    # Get the credentials object from the Kaggle environment\n",
    "    credentials = KaggleKernelCredentials()\n",
    "\n",
    "    # Pass the credentials object directly to the genai.Client\n",
    "    client = genai.Client(\n",
    "        vertexai=True,\n",
    "        project=PROJECT_ID,\n",
    "        location=\"us-east1\",\n",
    "        credentials=credentials \n",
    "    )\n",
    "    print(\"GenAI client initialized successfully with Kaggle credentials.\")\n",
    "except Exception as e:\n",
    "    print(f\"Failed to initialize client with credentials: {e}\")\n",
    "    raise SystemExit(\"Exiting due to authentication failure.\")\n",
    "\n",
    "def function_calling_agent():\n",
    "    #Define the tool for the model using the FunctionDeclaration and Tool classes.\n",
    "    get_similarity_search = FunctionDeclaration(\n",
    "        name='perform_similarity_search_bigquery_ml',\n",
    "        description='Performs a semantic similarity search on the medical report data to find patient reports that are similar to the question of the medical professional interacting with you.',\n",
    "        \n",
    "        #Function parameters are specified in JSON schema format\n",
    "        parameters={\n",
    "            \"type\": \"OBJECT\",\n",
    "            \"properties\": {\n",
    "                'query': {\"type\": \"STRING\", \"description\": 'The user\\'s search query.'},\n",
    "                'patient_id': {\"type\": \"STRING\", \"description\": 'The ID of the patient.'},\n",
    "                'start_date': {\"type\": \"STRING\", \"description\": 'The start date of the search range in YYYY-MM-DD format. If not given, assume 1970-01-01'},\n",
    "                'end_date': {\"type\": \"STRING\", \"description\": 'The end date of the search range in YYYY-MM-DD format. If not given, assume today'},\n",
    "            },\n",
    "            \"required\": ['query', 'patient_id', 'start_date', 'end_date'],\n",
    "        },\n",
    "    )\n",
    "\n",
    "    #Defining the tool itself to use the function\n",
    "    search_tool = Tool(function_declarations=[get_similarity_search])\n",
    "\n",
    "    #Create a user prompt that would naturally trigger the function call.\n",
    "    final_prompt = PROMPT + f\"\\nPatient ID: {PATIENT_ID}, current date: {time.strftime('%Y-%m-%d')}\" #Adding our other variables to the prompt.\n",
    "    print(\"Sending prompt to the model...\")\n",
    "\n",
    "    #Generating the content now with all of our input. Temperature lets Gemini be a bit 'creative' with its output.\n",
    "    response = client.models.generate_content(\n",
    "        model=MODEL_NAME,\n",
    "        contents=final_prompt,\n",
    "        config=GenerateContentConfig(\n",
    "            tools=[search_tool],\n",
    "            temperature=0.3,\n",
    "        ),\n",
    "    )\n",
    "\n",
    "    #Check the response for a function call and execute it.\n",
    "    if response.function_calls:\n",
    "        print(\"\\nModel response contains a function call:\")\n",
    "        call = response.function_calls[0]\n",
    "        print(call)\n",
    "\n",
    "        #Get the Python functio to call\n",
    "        function_to_call = globals()[call.name]\n",
    "\n",
    "        #Execute the function with the arguments provided by the model.\n",
    "        function_result = function_to_call(**call.args)\n",
    "    else:\n",
    "        print(\"\\nModel did not return a function call.\")\n",
    "        print(f\"Model response: {response.text}\")\n",
    "\n",
    "\n",
    "function_calling_agent()"
   ]
  },
  {
   "cell_type": "markdown",
   "id": "26a35285",
   "metadata": {
    "papermill": {
     "duration": 0.007853,
     "end_time": "2025-09-18T14:56:29.176592",
     "exception": false,
     "start_time": "2025-09-18T14:56:29.168739",
     "status": "completed"
    },
    "tags": []
   },
   "source": [
    "As you can (hopefully) see, patient 1 does indeed have a history with back problems like we've seen earlier in our BigQueryML function.\n",
    "Let's try 1 more."
   ]
  },
  {
   "cell_type": "code",
   "execution_count": 15,
   "id": "26653305",
   "metadata": {
    "execution": {
     "iopub.execute_input": "2025-09-18T14:56:29.194634Z",
     "iopub.status.busy": "2025-09-18T14:56:29.194166Z",
     "iopub.status.idle": "2025-09-18T14:56:34.350727Z",
     "shell.execute_reply": "2025-09-18T14:56:34.349661Z"
    },
    "papermill": {
     "duration": 5.168296,
     "end_time": "2025-09-18T14:56:34.352961",
     "exception": false,
     "start_time": "2025-09-18T14:56:29.184665",
     "status": "completed"
    },
    "tags": []
   },
   "outputs": [
    {
     "name": "stdout",
     "output_type": "stream",
     "text": [
      "Sending prompt to the model...\n",
      "\n",
      "Model response contains a function call:\n",
      "id=None args={'query': 'diabetes', 'end_date': '2009-12-31', 'patient_id': '3', 'start_date': '2009-01-01'} name='perform_similarity_search_bigquery_ml'\n",
      "Performing similarity search using BigQuery ML for query: 'diabetes'\n",
      "\n",
      "--- Top Matching Concepts for query: 'diabetes' ---\n",
      "\n",
      "Rank 1: Score = 0.6292\n",
      "  Concept: Condition Name: Type 2 diabetes mellitus\n",
      "Ancestor Name: Type 2 diabetes mellitus\n",
      "  Details: **Subjective:**\n",
      "Patient reports persistent polydipsia and polyuria over the past several weeks. They also endorse increased fatigue and occasional blurred vision. Patient denies any recent changes in diet or exercise habits. No reported history of diabetic ketoacidosis or hyperosmolar hyperglycemic state. Patient expresses concern about their energy levels and potential long-term complications.\n",
      "\n",
      "**Objective:**\n",
      "Vital Signs: Blood pressure 138/88 mmHg, heart rate 78 bpm, respiratory rate 16 bpm, temperature 98.6°F.\n",
      "Physical Examination: General appearance is well-nourished. Cardiovascular exam reveals regular rate and rhythm, no murmurs. Respiratory exam is clear to auscultation bilaterally. Abdominal exam is soft, non-tender, with normoactive bowel sounds. Neurological exam reveals intact gross motor and sensory function in all extremities; monofilament testing reveals diminished sensation to light touch at the distal plantar surfaces of both feet.\n",
      "Laboratory Data:\n",
      "Hemoglobin A1c: 8.9%\n",
      "Fasting Plasma Glucose: 185 mg/dL\n",
      "Lipid Panel: Total cholesterol 210 mg/dL, LDL 135 mg/dL, HDL 45 mg/dL, Triglycerides 170 mg/dL.\n",
      "Urinalysis: Glucose positive, ketones negative, protein negative.\n",
      "\n",
      "**Assessment:**\n",
      "The patient presents with a history and objective findings consistent with poorly controlled Type 2 Diabetes Mellitus. The elevated Hemoglobin A1c and fasting plasma glucose, coupled with the patient's reported symptoms of polydipsia, polyuria, fatigue, and blurred vision, strongly support this diagnosis. The diminished sensation in the feet suggests early-stage peripheral neuropathy, a common complication of diabetes. The lipid panel indicates dyslipidemia, which is frequently associated with Type 2 Diabetes and increases cardiovascular risk. Differential diagnoses considered are less likely given the constellation of findings but would include other causes of polyuria and polydipsia such as primary polydipsia or other endocrine disorders, which are not supported by the current data.\n",
      "\n",
      "**Plan:**\n",
      "1.  **Medication Adjustment:** Initiate or adjust oral hypoglycemic agent therapy. Consider metformin 500mg PO BID, titrating as tolerated.\n",
      "2.  **Lifestyle Modifications:** Reinforce importance of dietary changes focusing on carbohydrate restriction and increased fiber intake. Encourage regular aerobic exercise, aiming for at least 150 minutes per week. Provide referral to a registered dietitian for personalized meal planning.\n",
      "3.  **Cardiovascular Risk Management:** Initiate statin therapy for dyslipidemia. Consider atorvastatin 10mg PO daily. Counsel patient on the importance of blood pressure control and recommend lifestyle modifications to achieve target blood pressure.\n",
      "4.  **Diabetic Education:** Provide comprehensive diabetes education, including self-monitoring of blood glucose, sick day rules, and foot care.\n",
      "5.  **Follow-up:** Schedule follow-up appointment in 4 weeks to assess response to medication, review blood glucose logs, and reinforce lifestyle modifications.\n",
      "6.  **Further Testing:** Repeat Hemoglobin A1c and fasting plasma glucose in 3 months. Consider annual screening for diabetic retinopathy and nephropathy (microalbuminuria) as per guidelines. Continue to monitor blood pressure and lipids.\n",
      "------------\n",
      "\n",
      "Rank 2: Score = 0.6281\n",
      "  Concept: Condition Name: Type 2 diabetes mellitus\n",
      "Ancestor Name: Disorder of endocrine system\n",
      "  Details: **Subjective:**\n",
      "Patient reports persistent fatigue and increased thirst over the past several weeks. They also note experiencing more frequent urination, particularly nocturia. Patient denies any recent weight changes, visual disturbances, or numbness/tingling in extremities. They express concern about managing their blood glucose levels effectively.\n",
      "\n",
      "**Objective:**\n",
      "*   **Vital Signs:** Blood pressure 138/86 mmHg, Heart Rate 78 bpm, Respiratory Rate 16 bpm, Temperature 98.6°F.\n",
      "*   **Physical Examination:** General appearance is well-nourished. Cardiovascular exam reveals regular rate and rhythm, no murmurs. Lungs are clear to auscultation bilaterally. Abdominal exam is benign. Neurological exam is grossly intact with intact sensation to light touch in extremities. No pedal edema noted.\n",
      "*   **Laboratory Data:**\n",
      "    *   Hemoglobin A1c: 8.2%\n",
      "    *   Fasting Blood Glucose: 185 mg/dL\n",
      "    *   Lipid Panel: Total Cholesterol 210 mg/dL, LDL 135 mg/dL, HDL 45 mg/dL, Triglycerides 175 mg/dL.\n",
      "    *   Renal Function Panel: Creatinine 0.9 mg/dL, eGFR 95 mL/min/1.73m².\n",
      "\n",
      "**Assessment:**\n",
      "The patient's reported symptoms of polyuria and polydipsia, coupled with the objective findings of elevated fasting blood glucose and Hemoglobin A1c of 8.2%, are consistent with poorly controlled Type 2 Diabetes Mellitus. The elevated LDL cholesterol and borderline elevated triglycerides also indicate dyslipidemia, which is a common comorbidity. The patient's endocrine system disorder, specifically Type 2 Diabetes Mellitus, is the primary issue requiring management.\n",
      "\n",
      "**Plan:**\n",
      "1.  **Medication Adjustment:** Increase Metformin dosage to 1000 mg twice daily. Consider adding a second oral hypoglycemic agent such as a DPP-4 inhibitor or SGLT-2 inhibitor to improve glycemic control, pending further discussion with the patient.\n",
      "2.  **Lifestyle Modifications:** Reinforce the importance of dietary modifications, including reduced intake of refined carbohydrates and sugars, and increased consumption of fiber-rich foods. Encourage regular physical activity, aiming for at least 150 minutes of moderate-intensity aerobic exercise per week. Referral to a registered dietitian for personalized meal planning is recommended.\n",
      "3.  **Monitoring:** Patient to continue home blood glucose monitoring, aiming for fasting blood glucose levels between 80-130 mg/dL and postprandial levels below 180 mg/dL. Encourage daily logging of readings.\n",
      "4.  **Further Testing:** Schedule a follow-up appointment in 3 months for re-evaluation of glycemic control, including repeat Hemoglobin A1c and fasting blood glucose. Consider ordering a urine microalbumin test to screen for early signs of diabetic nephropathy.\n",
      "5.  **Education:** Provide patient with educational materials on diabetes management, including sick day rules and recognition of hypoglycemia/hyperglycemia symptoms. Discuss the importance of regular foot care and eye exams.\n",
      "6.  **Referrals:** Consider referral to a podiatrist for baseline foot examination. Discuss statin therapy for dyslipidemia management at the next visit.\n",
      "------------\n",
      "\n",
      "Rank 3: Score = 0.6237\n",
      "  Concept: Condition Name: Type 2 diabetes mellitus\n",
      "Ancestor Name: Disorder of carbohydrate metabolism\n",
      "  Details: **Subjective:**\n",
      "Patient reports persistent fatigue and increased thirst over the past several weeks. Denies any recent changes in diet or exercise routine. Reports occasional blurred vision, particularly in the late afternoon. No reported numbness or tingling in extremities. No history of polyuria or polydipsia prior to this recent onset.\n",
      "\n",
      "**Objective:**\n",
      "Vital Signs: BP 138/88 mmHg, HR 78 bpm, RR 16 bpm, Temp 98.6°F.\n",
      "Physical Examination: General appearance is well-nourished. Cardiovascular exam reveals regular rate and rhythm, no murmurs. Respiratory exam is clear to auscultation bilaterally. Neurological exam reveals intact sensation to light touch and pinprick in all extremities, intact reflexes. No pedal edema noted.\n",
      "Laboratory Results:\n",
      "Fasting Blood Glucose: 198 mg/dL\n",
      "Hemoglobin A1c: 8.9%\n",
      "Urinalysis: Negative for ketones and protein.\n",
      "\n",
      "**Assessment:**\n",
      "The patient's presentation of persistent fatigue, increased thirst, and blurred vision, coupled with objective findings of elevated fasting blood glucose and Hemoglobin A1c, is highly suggestive of poorly controlled Type 2 Diabetes Mellitus. The lack of ketones or protein in the urine, and intact distal sensation, are reassuring at this time. The elevated blood pressure warrants consideration for concurrent management. The ancestral history of a disorder of carbohydrate metabolism further supports this diagnosis.\n",
      "\n",
      "**Plan:**\n",
      "1.  Initiate oral hypoglycemic agent, Metformin 500 mg PO BID with meals, to improve glycemic control.\n",
      "2.  Provide patient education on diet modification, emphasizing reduced intake of refined carbohydrates and sugary beverages, and encourage regular physical activity.\n",
      "3.  Recommend home blood glucose monitoring, with fasting and postprandial checks twice daily, to assess response to treatment and guide further adjustments.\n",
      "4.  Schedule follow-up appointment in 4 weeks to review blood glucose logs, re-evaluate symptoms, and assess response to medication and lifestyle changes.\n",
      "5.  Referral to a registered dietitian for comprehensive diabetes education and personalized meal planning.\n",
      "6.  Consider initiation of antihypertensive medication if blood pressure remains elevated at follow-up.\n",
      "7.  Repeat Hemoglobin A1c in 3 months to assess long-term glycemic control.\n",
      "------------\n"
     ]
    }
   ],
   "source": [
    "PROMPT = \"Did this patient have issues with diabetes through 2009?\"\n",
    "PATIENT_ID = 3\n",
    "\n",
    "function_calling_agent()"
   ]
  },
  {
   "cell_type": "markdown",
   "id": "9a82ee59",
   "metadata": {
    "papermill": {
     "duration": 0.008483,
     "end_time": "2025-09-18T14:56:34.370369",
     "exception": false,
     "start_time": "2025-09-18T14:56:34.361886",
     "status": "completed"
    },
    "tags": []
   },
   "source": [
    "And 1 final application;"
   ]
  },
  {
   "cell_type": "code",
   "execution_count": 16,
   "id": "9e26207d",
   "metadata": {
    "execution": {
     "iopub.execute_input": "2025-09-18T14:56:34.388823Z",
     "iopub.status.busy": "2025-09-18T14:56:34.388379Z",
     "iopub.status.idle": "2025-09-18T14:56:39.051162Z",
     "shell.execute_reply": "2025-09-18T14:56:39.049893Z"
    },
    "papermill": {
     "duration": 4.674321,
     "end_time": "2025-09-18T14:56:39.053017",
     "exception": false,
     "start_time": "2025-09-18T14:56:34.378696",
     "status": "completed"
    },
    "tags": []
   },
   "outputs": [
    {
     "name": "stdout",
     "output_type": "stream",
     "text": [
      "Sending prompt to the model...\n",
      "\n",
      "Model response contains a function call:\n",
      "id=None args={'patient_id': '4', 'query': 'dementia related symptoms', 'start_date': '2009-09-01', 'end_date': '2025-09-18'} name='perform_similarity_search_bigquery_ml'\n",
      "Performing similarity search using BigQuery ML for query: 'dementia related symptoms'\n",
      "No matching concepts found for the given criteria.\n"
     ]
    }
   ],
   "source": [
    "PROMPT = \"Have there been dementia related symptoms since september 2009?\"\n",
    "PATIENT_ID = 4\n",
    "\n",
    "function_calling_agent()"
   ]
  },
  {
   "cell_type": "markdown",
   "id": "0ae00a0f",
   "metadata": {
    "papermill": {
     "duration": 0.008645,
     "end_time": "2025-09-18T14:56:39.070729",
     "exception": false,
     "start_time": "2025-09-18T14:56:39.062084",
     "status": "completed"
    },
    "tags": []
   },
   "source": [
    "As you can see, no results. The similarity search tresholds filters them - in reality, this patient has only suffered from spinal issues and diabetes in this window.\n",
    "\n",
    "If we were to say, deploy this to a Cloud Run (or Google's Agent Engine), we would now have a REST API Endpoint that can be called by any application to actually Vector Search through patient data!"
   ]
  },
  {
   "cell_type": "markdown",
   "id": "bb5d42cc",
   "metadata": {
    "papermill": {
     "duration": 0.011003,
     "end_time": "2025-09-18T14:56:39.090941",
     "exception": false,
     "start_time": "2025-09-18T14:56:39.079938",
     "status": "completed"
    },
    "tags": []
   },
   "source": [
    "# Conclusions\n",
    "\n",
    "Hopefully I've been able to showcase the power of BigQueryML here. I was impressed that all of this functionality works within SQL; I was worried that this would have to be a video showcase of me going through bigquery and setting up all these things by hand (like for example, creating the Generation and Embedding Models), but luckily this was all possible with just BigQuery calls inside Kaggle. The speed of the BigQueryML calls also surprised me, especially the similarity search.\n",
    "\n",
    "I'm a big fan of embeddings in the medical sphere. I've worked in healthcare-related IT for a few years and the amount of administration and bulk that these nurses and other professionals need to go through is absurd. Hopefully we can, in the near future, assist them in this proces. The quality of our models will keep improving, and I think this can be a reality soon.\n",
    "\n",
    "The lack of consistant language use inbetween organisations and programs can cause extra bloat in this administrative process. Embeddings and Classifications within GCP can realy alleviate these issues.\n",
    "\n",
    "If I were to do this again, I would set up something more robust for the agent using Google's Agent Development Kit (ADK). It's elegant use of sub-agents would let you run a host of queries all within the same project while still having a clean project setup. That being said, I'm not sure how it would interact with a Kaggle Notebook and I would find it unrelated to the BigQuery usecase. Should I bring this to production, I will definitely read into it more.\n",
    "\n",
    "Outside of that, I would write something to reduce the verboseness of the SOAP reports - they're quite wordy, and it troubles the embeddings somewhat. "
   ]
  }
 ],
 "metadata": {
  "kaggle": {
   "accelerator": "none",
   "dataSources": [],
   "dockerImageVersionId": 31089,
   "isGpuEnabled": false,
   "isInternetEnabled": true,
   "language": "python",
   "sourceType": "notebook"
  },
  "kernelspec": {
   "display_name": "Python 3",
   "language": "python",
   "name": "python3"
  },
  "language_info": {
   "codemirror_mode": {
    "name": "ipython",
    "version": 3
   },
   "file_extension": ".py",
   "mimetype": "text/x-python",
   "name": "python",
   "nbconvert_exporter": "python",
   "pygments_lexer": "ipython3",
   "version": "3.11.13"
  },
  "papermill": {
   "default_parameters": {},
   "duration": 216.842233,
   "end_time": "2025-09-18T14:56:41.947489",
   "environment_variables": {},
   "exception": null,
   "input_path": "__notebook__.ipynb",
   "output_path": "__notebook__.ipynb",
   "parameters": {},
   "start_time": "2025-09-18T14:53:05.105256",
   "version": "2.6.0"
  }
 },
 "nbformat": 4,
 "nbformat_minor": 5
}
